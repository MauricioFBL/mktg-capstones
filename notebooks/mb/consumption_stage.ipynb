{
 "cells": [
  {
   "cell_type": "code",
   "execution_count": 1,
   "id": "6be660c8",
   "metadata": {},
   "outputs": [],
   "source": [
    "\n",
    "from pyspark.sql import SparkSession\n",
    "from pyspark.sql.functions import (\n",
    "    avg,\n",
    "    col,\n",
    "    expr,\n",
    "    month,\n",
    "    sum,\n",
    "    to_date,\n",
    "    year,\n",
    ")\n",
    "from pyspark.sql.functions import round as spark_round\n",
    "from pyspark.sql.window import Window\n",
    "\n",
    "# Hola ssh -i ~/.ssh/airflow-key-no-pass ec2-user@54.161.47.74\n"
   ]
  },
  {
   "cell_type": "code",
   "execution_count": 2,
   "id": "26164a94",
   "metadata": {},
   "outputs": [
    {
     "data": {
      "text/html": [
       "\n",
       "            <div>\n",
       "                <p><b>SparkSession - in-memory</b></p>\n",
       "                \n",
       "        <div>\n",
       "            <p><b>SparkContext</b></p>\n",
       "\n",
       "            <p><a href=\"http://f16b9517bc6b:4040\">Spark UI</a></p>\n",
       "\n",
       "            <dl>\n",
       "              <dt>Version</dt>\n",
       "                <dd><code>v3.5.0</code></dd>\n",
       "              <dt>Master</dt>\n",
       "                <dd><code>local[*]</code></dd>\n",
       "              <dt>AppName</dt>\n",
       "                <dd><code>campaign_consumption</code></dd>\n",
       "            </dl>\n",
       "        </div>\n",
       "        \n",
       "            </div>\n",
       "        "
      ],
      "text/plain": [
       "<pyspark.sql.session.SparkSession at 0xffff74220950>"
      ]
     },
     "execution_count": 2,
     "metadata": {},
     "output_type": "execute_result"
    }
   ],
   "source": [
    "\n",
    "# 1. Crear SparkSession\n",
    "spark = SparkSession.builder.appName(\"campaign_consumption\").getOrCreate()\n",
    "spark"
   ]
  },
  {
   "cell_type": "code",
   "execution_count": 3,
   "id": "834b24a8",
   "metadata": {},
   "outputs": [
    {
     "name": "stdout",
     "output_type": "stream",
     "text": [
      "inputs\toutputs  ruta  work\n"
     ]
    }
   ],
   "source": [
    "!ls"
   ]
  },
  {
   "cell_type": "code",
   "execution_count": 4,
   "id": "d0fd5f2f",
   "metadata": {},
   "outputs": [
    {
     "name": "stdout",
     "output_type": "stream",
     "text": [
      "root\n",
      " |-- campaign_id: integer (nullable = true)\n",
      " |-- ad_group_id: integer (nullable = true)\n",
      " |-- ad_group_name: string (nullable = true)\n",
      " |-- ad_id: integer (nullable = true)\n",
      " |-- ad_name: string (nullable = true)\n",
      " |-- platform: string (nullable = true)\n",
      " |-- date: timestamp (nullable = true)\n",
      " |-- marca: string (nullable = true)\n",
      " |-- tipo: string (nullable = true)\n",
      " |-- audience: string (nullable = true)\n",
      " |-- ad_type: string (nullable = true)\n",
      " |-- impressions: integer (nullable = true)\n",
      " |-- clicks: integer (nullable = true)\n",
      " |-- spend: double (nullable = true)\n",
      " |-- interactions: integer (nullable = true)\n",
      " |-- conversions: integer (nullable = true)\n",
      " |-- quartile_25: integer (nullable = true)\n",
      " |-- quartile_50: integer (nullable = true)\n",
      " |-- quartile_75: integer (nullable = true)\n",
      " |-- completed: integer (nullable = true)\n",
      "\n"
     ]
    }
   ],
   "source": [
    "\n",
    "\n",
    "# 2. Leer CSV\n",
    "df = spark.read.option(\"header\", True).option(\"inferSchema\", True).csv(\"./inputs/meta/\")\n",
    "df.printSchema()\n"
   ]
  },
  {
   "cell_type": "code",
   "execution_count": 5,
   "id": "5d753cf5",
   "metadata": {},
   "outputs": [
    {
     "name": "stdout",
     "output_type": "stream",
     "text": [
      "+-----------+-----------+-------------+-----+-------+---------+-------------------+-------+---------+--------+--------+-----------+------+------+------------+-----------+-----------+-----------+-----------+---------+\n",
      "|campaign_id|ad_group_id|ad_group_name|ad_id|ad_name| platform|               date|  marca|     tipo|audience| ad_type|impressions|clicks| spend|interactions|conversions|quartile_25|quartile_50|quartile_75|completed|\n",
      "+-----------+-----------+-------------+-----+-------+---------+-------------------+-------+---------+--------+--------+-----------+------+------+------------+-----------+-----------+-----------+-----------+---------+\n",
      "|       1005|       2002|      Group_2| 3001|   Ad_1| Facebook|2022-01-01 00:00:00|Brand B|Awareness|   Youth|   Video|       4638|   487|169.52|          87|          1|       2133|       2088|       1401|      919|\n",
      "|       1002|       2010|     Group_10| 3002|   Ad_2| Facebook|2022-01-01 00:00:00|Brand B|   Launch|     Men|   Image|       3218|  1071|345.28|         332|         12|        608|        412|        259|      171|\n",
      "|       1005|       2002|      Group_2| 3003|   Ad_3| Facebook|2022-01-01 00:00:00|Brand B|Awareness|   Youth|   Video|       1332|   149| 11.04|          55|         18|        621|        554|        377|      188|\n",
      "|       1004|       2013|     Group_13| 3004|   Ad_4| Facebook|2022-01-01 00:00:00|Brand A|Promotion|     Men|   Image|        839|   101| 29.62|         496|         51|        274|        206|        159|      106|\n",
      "|       1004|       2013|     Group_13| 3005|   Ad_5|Instagram|2022-01-01 00:00:00|Brand A|Promotion|     Men|Carousel|       3365|   724| 55.94|        2170|       1009|       1583|       1394|       1299|      735|\n",
      "+-----------+-----------+-------------+-----+-------+---------+-------------------+-------+---------+--------+--------+-----------+------+------+------------+-----------+-----------+-----------+-----------+---------+\n",
      "only showing top 5 rows\n",
      "\n",
      "None\n",
      "+-----------+-----------+-------------+-----+-------+---------+-------------------+-------+---------+--------+--------+-----------+------+------+------------+-----------+-----------+-----------+-----------+---------+-----------+----+-----+\n",
      "|campaign_id|ad_group_id|ad_group_name|ad_id|ad_name| platform|               date|  marca|     tipo|audience| ad_type|impressions|clicks| spend|interactions|conversions|quartile_25|quartile_50|quartile_75|completed|date_parsed|year|month|\n",
      "+-----------+-----------+-------------+-----+-------+---------+-------------------+-------+---------+--------+--------+-----------+------+------+------------+-----------+-----------+-----------+-----------+---------+-----------+----+-----+\n",
      "|       1005|       2002|      Group_2| 3001|   Ad_1| Facebook|2022-01-01 00:00:00|Brand B|Awareness|   Youth|   Video|       4638|   487|169.52|          87|          1|       2133|       2088|       1401|      919| 2022-01-01|2022|    1|\n",
      "|       1002|       2010|     Group_10| 3002|   Ad_2| Facebook|2022-01-01 00:00:00|Brand B|   Launch|     Men|   Image|       3218|  1071|345.28|         332|         12|        608|        412|        259|      171| 2022-01-01|2022|    1|\n",
      "|       1005|       2002|      Group_2| 3003|   Ad_3| Facebook|2022-01-01 00:00:00|Brand B|Awareness|   Youth|   Video|       1332|   149| 11.04|          55|         18|        621|        554|        377|      188| 2022-01-01|2022|    1|\n",
      "|       1004|       2013|     Group_13| 3004|   Ad_4| Facebook|2022-01-01 00:00:00|Brand A|Promotion|     Men|   Image|        839|   101| 29.62|         496|         51|        274|        206|        159|      106| 2022-01-01|2022|    1|\n",
      "|       1004|       2013|     Group_13| 3005|   Ad_5|Instagram|2022-01-01 00:00:00|Brand A|Promotion|     Men|Carousel|       3365|   724| 55.94|        2170|       1009|       1583|       1394|       1299|      735| 2022-01-01|2022|    1|\n",
      "+-----------+-----------+-------------+-----+-------+---------+-------------------+-------+---------+--------+--------+-----------+------+------+------------+-----------+-----------+-----------+-----------+---------+-----------+----+-----+\n",
      "only showing top 5 rows\n",
      "\n"
     ]
    }
   ],
   "source": [
    "\n",
    "print(df.show(5))\n",
    "# 3. Parsear fecha y extraer dimensiones\n",
    "df = df.withColumn(\"date_parsed\", to_date(col(\"date\")))\\\n",
    "       .withColumn(\"year\", year(\"date_parsed\"))\\\n",
    "       .withColumn(\"month\", month(\"date_parsed\"))\n",
    "\n",
    "# 4. Filtrar registros inválidos (opcional pero recomendado)\n",
    "df = df.filter((col(\"impressions\") > 0) & (col(\"spend\") >= 0) & (col(\"clicks\") >= 0))\n",
    "df.show(5)"
   ]
  },
  {
   "cell_type": "code",
   "execution_count": 6,
   "id": "60161573",
   "metadata": {},
   "outputs": [
    {
     "name": "stdout",
     "output_type": "stream",
     "text": [
      "+-----------+-------------+-------+----------------+-------+---------+--------+--------+----+-----+-----------+------+------------------+-----------+---------+\n",
      "|campaign_id|ad_group_name|ad_name|        platform|  marca|     tipo|audience| ad_type|year|month|impressions|clicks|             spend|conversions|completed|\n",
      "+-----------+-------------+-------+----------------+-------+---------+--------+--------+----+-----+-----------+------+------------------+-----------+---------+\n",
      "|       1005|      Group_2|  Ad_36|Audience Network|Brand B|Awareness|   Youth|   Video|2022|    2|      76960|  8790|            2567.7|       2491|    12120|\n",
      "|       1004|      Group_8|  Ad_21|       Instagram|Brand A|Promotion|   Youth|   Image|2022|    9|      71710|  4207|1081.7200000000003|       2001|     8707|\n",
      "|       1003|      Group_7|  Ad_50|       Instagram|Brand A|   Launch|   Women|   Video|2022|   10|      91763|  8024|           2607.39|       4148|    12400|\n",
      "|       1003|      Group_6|  Ad_49|        Facebook|Brand A|   Launch|   Women|   Image|2022|    5|      89649| 11829|3515.2600000000007|       2825|    10384|\n",
      "|       1005|      Group_1|  Ad_30|       Instagram|Brand B|Awareness|   Youth|Carousel|2022|    6|      87353|  7434|           1606.96|       3978|    10555|\n",
      "+-----------+-------------+-------+----------------+-------+---------+--------+--------+----+-----+-----------+------+------------------+-----------+---------+\n",
      "only showing top 5 rows\n",
      "\n"
     ]
    }
   ],
   "source": [
    "\n",
    "# 5. Agrupar y sumarizar\n",
    "grouped_df = df.groupBy(\n",
    "    \"campaign_id\", \"ad_group_name\", \"ad_name\", \"platform\",\n",
    "    \"marca\", \"tipo\", \"audience\", \"ad_type\", \"year\", \"month\"\n",
    ").agg(\n",
    "        sum(\"impressions\").alias(\"impressions\"),\n",
    "        sum(\"clicks\").alias(\"clicks\"),\n",
    "        sum(\"spend\").alias(\"spend\"),\n",
    "        sum(\"conversions\").alias(\"conversions\"),\n",
    "        sum(\"completed\").alias(\"completed\")\n",
    "    )\n",
    "grouped_df.show(5)"
   ]
  },
  {
   "cell_type": "code",
   "execution_count": 7,
   "id": "5ead434a",
   "metadata": {},
   "outputs": [
    {
     "name": "stdout",
     "output_type": "stream",
     "text": [
      "+-----------+-------------+-------+----------------+-------+---------+--------+--------+----+-----+-----------+------+------------------+-----------+---------+--------------------+-------------------+-------------------+------------------+------------------+-------------------+\n",
      "|campaign_id|ad_group_name|ad_name|        platform|  marca|     tipo|audience| ad_type|year|month|impressions|clicks|             spend|conversions|completed|                 CTR|                CPC|                CPA|               ROI|               CPM|    completion_rate|\n",
      "+-----------+-------------+-------+----------------+-------+---------+--------+--------+----+-----+-----------+------+------------------+-----------+---------+--------------------+-------------------+-------------------+------------------+------------------+-------------------+\n",
      "|       1005|      Group_2|  Ad_36|Audience Network|Brand B|Awareness|   Youth|   Video|2022|    2|      76960|  8790|            2567.7|       2491|    12120| 0.11421517671517671| 0.2921160409556314| 1.0307908470493776| 0.970128909140476| 33.36408523908524|0.15748440748440748|\n",
      "|       1004|      Group_8|  Ad_21|       Instagram|Brand A|Promotion|   Youth|   Image|2022|    9|      71710|  4207|1081.7200000000003|       2001|     8707|0.058666852600753036| 0.2571238412170193| 0.5405897051474264|1.8498317494360828|15.084646492818301|0.12141960674940734|\n",
      "|       1003|      Group_7|  Ad_50|       Instagram|Brand A|   Launch|   Women|   Video|2022|   10|      91763|  8024|           2607.39|       4148|    12400| 0.08744265117748984| 0.3249489032901296|  0.628589681774349|1.5908628935448859| 28.41439360090668| 0.1351307171735885|\n",
      "|       1003|      Group_6|  Ad_49|        Facebook|Brand A|   Launch|   Women|   Image|2022|    5|      89649| 11829|3515.2600000000007|       2825|    10384|  0.1319479302613526|0.29717304928565397| 1.2443398230088498|0.8036389911414802| 39.21136878269697|0.11582951287800199|\n",
      "|       1005|      Group_1|  Ad_30|       Instagram|Brand B|Awareness|   Youth|Carousel|2022|    6|      87353|  7434|           1606.96|       3978|    10555| 0.08510297299463097|0.21616357277374226|0.40396178984414277|2.4754816548016128| 18.39616269618674|0.12083156846359026|\n",
      "+-----------+-------------+-------+----------------+-------+---------+--------+--------+----+-----+-----------+------+------------------+-----------+---------+--------------------+-------------------+-------------------+------------------+------------------+-------------------+\n",
      "only showing top 5 rows\n",
      "\n"
     ]
    }
   ],
   "source": [
    "\n",
    "# 6. Calcular métricas derivadas\n",
    "derived_df = grouped_df.withColumn(\"CTR\", col(\"clicks\") / col(\"impressions\"))\\\n",
    "                       .withColumn(\"CPC\", col(\"spend\") / col(\"clicks\"))\\\n",
    "                       .withColumn(\"CPA\", col(\"spend\") / col(\"conversions\"))\\\n",
    "                       .withColumn(\"ROI\", col(\"conversions\") / col(\"spend\"))\\\n",
    "                       .withColumn(\"CPM\", (col(\"spend\") / col(\"impressions\")) * 1000)\\\n",
    "                       .withColumn(\"completion_rate\", col(\"completed\") / col(\"impressions\"))\n",
    "derived_df.show(5)\n"
   ]
  },
  {
   "cell_type": "code",
   "execution_count": 8,
   "id": "5aafa9c5",
   "metadata": {},
   "outputs": [
    {
     "name": "stdout",
     "output_type": "stream",
     "text": [
      "+-----------+-------------+-------+----------------+-------+------+--------+--------+----+-----+-----------+------+------------------+-----------+---------+-------------------+-------------------+------------------+------------------+------------------+-------------------+------+------+------+--------+--------------+-----------------+\n",
      "|campaign_id|ad_group_name|ad_name|        platform|  marca|  tipo|audience| ad_type|year|month|impressions|clicks|             spend|conversions|completed|                CTR|                CPC|               CPA|               ROI|               CPM|    completion_rate|CTR_3m|CPA_3m|ROI_3m|spend_3m|conversions_3m|last_updated_date|\n",
      "+-----------+-------------+-------+----------------+-------+------+--------+--------+----+-----+-----------+------+------------------+-----------+---------+-------------------+-------------------+------------------+------------------+------------------+-------------------+------+------+------+--------+--------------+-----------------+\n",
      "|       1003|      Group_5|  Ad_20|Audience Network|Brand A|Launch|     Men|Carousel|2022|    1|      74335|  7885|           2457.84|       2990|     7528| 0.1060738548463039|  0.311710843373494|0.8220200668896321|1.2165153142596752| 33.06437075401897|0.10127127194457523|0.1061| 0.822|1.2165| 2457.84|          2990|       2025-05-15|\n",
      "|       1003|      Group_5|  Ad_20|Audience Network|Brand A|Launch|     Men|Carousel|2022|    2|      89495| 11644| 3637.080000000001|       2778|    10940|0.13010782725291917|0.31235657849536247|1.3092440604751623|0.7637995314922958| 40.64003575618751|0.12224146600368736|0.1181|1.0656|0.9902| 6094.92|          5768|       2025-05-15|\n",
      "|       1003|      Group_5|  Ad_20|Audience Network|Brand A|Launch|     Men|Carousel|2022|    3|      68281|  6762|           1679.48|       2056|     8862|0.09903194153571272|0.24837030464359658|0.8168677042801556|1.2241884392788245| 24.59659348867181|0.12978720288220735|0.1117|0.9827|1.0682|  7774.4|          7824|       2025-05-15|\n",
      "|       1003|      Group_5|  Ad_20|Audience Network|Brand A|Launch|     Men|Carousel|2022|    4|      69200|  6462|1622.3700000000001|       1794|     8320|0.09338150289017341| 0.2510631383472609|0.9043311036789299|1.1057896780635736| 23.44465317919075|0.12023121387283237|0.1075|1.0101|1.0313| 6938.93|          6628|       2025-05-15|\n",
      "|       1003|      Group_5|  Ad_20|Audience Network|Brand A|Launch|     Men|Carousel|2022|    5|      79361|  7116|            1697.3|       1764|    10227|0.08966620884313453|0.23851883080382236|  0.96218820861678|1.0392977081246686|21.387079295875807|0.12886682375474098| 0.094|0.8945|1.1231| 4999.15|          5614|       2025-05-15|\n",
      "+-----------+-------------+-------+----------------+-------+------+--------+--------+----+-----+-----------+------+------------------+-----------+---------+-------------------+-------------------+------------------+------------------+------------------+-------------------+------+------+------+--------+--------------+-----------------+\n",
      "only showing top 5 rows\n",
      "\n"
     ]
    }
   ],
   "source": [
    "\n",
    "# 7. Definir ventana de 3 meses móviles\n",
    "window_spec = Window.partitionBy(\"platform\", \"marca\", \"tipo\", \"audience\", \"ad_type\")\\\n",
    "                    .orderBy(\"year\", \"month\")\\\n",
    "                    .rowsBetween(-2, 0)\n",
    "\n",
    "# 8. Métricas móviles\n",
    "final_df = derived_df.withColumn(\"CTR_3m\", avg(\"CTR\").over(window_spec))\\\n",
    "                     .withColumn(\"CPA_3m\", avg(\"CPA\").over(window_spec))\\\n",
    "                     .withColumn(\"ROI_3m\", avg(\"ROI\").over(window_spec))\\\n",
    "                     .withColumn(\"spend_3m\", sum(\"spend\").over(window_spec))\\\n",
    "                     .withColumn(\"conversions_3m\", sum(\"conversions\").over(window_spec))\n",
    "final_df = final_df.withColumn(\"CTR_3m\", spark_round(col(\"CTR_3m\"), 4))\\\n",
    "                     .withColumn(\"CPA_3m\", spark_round(col(\"CPA_3m\"), 4))\\\n",
    "                     .withColumn(\"ROI_3m\", spark_round(col(\"ROI_3m\"), 4))\\\n",
    "                     .withColumn(\"spend_3m\", spark_round(col(\"spend_3m\"), 2))\\\n",
    "                     .withColumn(\"conversions_3m\", spark_round(col(\"conversions_3m\"), 2))\n",
    "final_df = final_df.withColumn(\"last_updated_date\", expr(\"date_sub(current_date(), 1)\"))\n",
    "final_df.show(5)"
   ]
  },
  {
   "cell_type": "code",
   "execution_count": 9,
   "id": "7c06cd94",
   "metadata": {},
   "outputs": [
    {
     "name": "stdout",
     "output_type": "stream",
     "text": [
      "root\n",
      " |-- campaign_id: integer (nullable = true)\n",
      " |-- ad_group_name: string (nullable = true)\n",
      " |-- ad_name: string (nullable = true)\n",
      " |-- platform: string (nullable = true)\n",
      " |-- marca: string (nullable = true)\n",
      " |-- tipo: string (nullable = true)\n",
      " |-- audience: string (nullable = true)\n",
      " |-- ad_type: string (nullable = true)\n",
      " |-- year: integer (nullable = true)\n",
      " |-- month: integer (nullable = true)\n",
      " |-- impressions: long (nullable = true)\n",
      " |-- clicks: long (nullable = true)\n",
      " |-- spend: double (nullable = true)\n",
      " |-- conversions: long (nullable = true)\n",
      " |-- completed: long (nullable = true)\n",
      " |-- CTR: double (nullable = true)\n",
      " |-- CPC: double (nullable = true)\n",
      " |-- CPA: double (nullable = true)\n",
      " |-- ROI: double (nullable = true)\n",
      " |-- CPM: double (nullable = true)\n",
      " |-- completion_rate: double (nullable = true)\n",
      " |-- CTR_3m: double (nullable = true)\n",
      " |-- CPA_3m: double (nullable = true)\n",
      " |-- ROI_3m: double (nullable = true)\n",
      " |-- spend_3m: double (nullable = true)\n",
      " |-- conversions_3m: long (nullable = true)\n",
      " |-- last_updated_date: date (nullable = false)\n",
      "\n"
     ]
    }
   ],
   "source": [
    "final_df.printSchema()"
   ]
  },
  {
   "cell_type": "code",
   "execution_count": 10,
   "id": "f9b2f1b5",
   "metadata": {},
   "outputs": [],
   "source": [
    "\n",
    "# 9. Exportar a Parquet particionado\n",
    "final_df.write.mode(\"overwrite\")\\\n",
    "    .partitionBy(\"platform\", \"year\", \"month\")\\\n",
    "    .parquet(\"outputs/consumption_meta/parquet\")"
   ]
  },
  {
   "cell_type": "code",
   "execution_count": 11,
   "id": "d9f1219b",
   "metadata": {},
   "outputs": [
    {
     "name": "stdout",
     "output_type": "stream",
     "text": [
      "inputs\toutputs  ruta  work\n"
     ]
    }
   ],
   "source": [
    "!ls"
   ]
  },
  {
   "cell_type": "code",
   "execution_count": null,
   "id": "9740e866",
   "metadata": {},
   "outputs": [],
   "source": []
  },
  {
   "cell_type": "code",
   "execution_count": null,
   "id": "ef5dd24d",
   "metadata": {},
   "outputs": [],
   "source": []
  },
  {
   "cell_type": "code",
   "execution_count": null,
   "id": "a6e9f6f8",
   "metadata": {},
   "outputs": [],
   "source": []
  }
 ],
 "metadata": {
  "kernelspec": {
   "display_name": "Python 3 (ipykernel)",
   "language": "python",
   "name": "python3"
  }
 },
 "nbformat": 4,
 "nbformat_minor": 5
}
