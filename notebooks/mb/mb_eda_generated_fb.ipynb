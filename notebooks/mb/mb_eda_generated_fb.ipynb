{
 "cells": [
  {
   "cell_type": "code",
   "execution_count": 12,
   "metadata": {},
   "outputs": [
    {
     "data": {
      "text/html": [
       "\n",
       "            <div>\n",
       "                <p><b>SparkSession - in-memory</b></p>\n",
       "                \n",
       "        <div>\n",
       "            <p><b>SparkContext</b></p>\n",
       "\n",
       "            <p><a href=\"http://f81ccef008db:4040\">Spark UI</a></p>\n",
       "\n",
       "            <dl>\n",
       "              <dt>Version</dt>\n",
       "                <dd><code>v3.5.0</code></dd>\n",
       "              <dt>Master</dt>\n",
       "                <dd><code>local[*]</code></dd>\n",
       "              <dt>AppName</dt>\n",
       "                <dd><code>pyspark-shell</code></dd>\n",
       "            </dl>\n",
       "        </div>\n",
       "        \n",
       "            </div>\n",
       "        "
      ],
      "text/plain": [
       "<pyspark.sql.session.SparkSession at 0xffff70f1ad10>"
      ]
     },
     "execution_count": 12,
     "metadata": {},
     "output_type": "execute_result"
    }
   ],
   "source": [
    "# importar la spark session\n",
    "from pyspark.sql import SparkSession\n",
    "\n",
    "# crar sessio.\n",
    "spark = SparkSession.builder.master(\"local[*]\").getOrCreate()\n",
    "spark"
   ]
  },
  {
   "cell_type": "code",
   "execution_count": 13,
   "metadata": {},
   "outputs": [
    {
     "name": "stdout",
     "output_type": "stream",
     "text": [
      "+-----------+----------------------------+\n",
      "|Campaign_ID|Campaign_Name               |\n",
      "+-----------+----------------------------+\n",
      "|1001       |Campaign-1-Brand B-Awareness|\n",
      "|1002       |Campaign-2-Brand A-Launch   |\n",
      "|1003       |Campaign-3-Brand C-Awareness|\n",
      "|1004       |Campaign-4-Brand B-Awareness|\n",
      "|1005       |Campaign-5-Brand B-Awareness|\n",
      "+-----------+----------------------------+\n",
      "\n"
     ]
    }
   ],
   "source": [
    "campaign_df = spark.read.csv(\"./inputs/campaigns.csv\", header=True, inferSchema=True)\n",
    "campaign_df.show(truncate=False)"
   ]
  },
  {
   "cell_type": "code",
   "execution_count": 14,
   "metadata": {},
   "outputs": [
    {
     "name": "stdout",
     "output_type": "stream",
     "text": [
      "+-----------+---+-------+---------+\n",
      "|campaign_id|id |marca  |tipo     |\n",
      "+-----------+---+-------+---------+\n",
      "|1001       |1  |Brand B|Awareness|\n",
      "|1002       |2  |Brand A|Launch   |\n",
      "|1003       |3  |Brand C|Awareness|\n",
      "|1004       |4  |Brand B|Awareness|\n",
      "|1005       |5  |Brand B|Awareness|\n",
      "+-----------+---+-------+---------+\n",
      "\n"
     ]
    }
   ],
   "source": [
    "from pyspark.sql.functions import col, concat, lit, split\n",
    "\n",
    "# SPLIT Nombre_Campana in 4 columns splited by - using split function and col function\n",
    "campaign_df = campaign_df.withColumn(\"prefijo\", split(campaign_df[\"Campaign_Name\"], \"-\")[0])\n",
    "campaign_df = campaign_df.withColumn(\"id\", split(campaign_df[\"Campaign_Name\"], \"-\")[1])\n",
    "campaign_df = campaign_df.withColumn(\"marca\", split(campaign_df[\"Campaign_Name\"], \"-\")[2])\n",
    "campaign_df = campaign_df.withColumn(\"tipo\", split(campaign_df[\"Campaign_Name\"], \"-\")[3])\n",
    "# Create column campaign_name concatenating column prefijo + \"_\" + column id\n",
    "campaign_df = campaign_df.withColumn(\"campaign_name\", concat(col(\"prefijo\"), lit(\"_\") , col(\"id\")))\n",
    "campaign_df =  campaign_df.drop(\"Campaign_Name\").drop(\"prefijo\")\n",
    "campaign_df = campaign_df.withColumnRenamed(\"Campaign_ID\", \"campaign_id\")\n",
    "# campaign_df withColumn \"campaign_name\", campaign_df[\"prefijo\"] + \"_\" + campaign_df[\"id\"]\n",
    "campaign_df.show(truncate=False)"
   ]
  },
  {
   "cell_type": "code",
   "execution_count": 15,
   "metadata": {},
   "outputs": [
    {
     "name": "stdout",
     "output_type": "stream",
     "text": [
      "root\n",
      " |-- campaign_id: integer (nullable = true)\n",
      " |-- id: string (nullable = true)\n",
      " |-- marca: string (nullable = true)\n",
      " |-- tipo: string (nullable = true)\n",
      "\n"
     ]
    }
   ],
   "source": [
    "campaign_df.printSchema()"
   ]
  },
  {
   "cell_type": "code",
   "execution_count": 16,
   "metadata": {},
   "outputs": [
    {
     "name": "stdout",
     "output_type": "stream",
     "text": [
      "+-----------+-----------+--------------+\n",
      "|Ad_Group_ID|Campaign_ID|Ad_Group_Name |\n",
      "+-----------+-----------+--------------+\n",
      "|2001       |1002       |Group-1-Women |\n",
      "|2002       |1003       |Group-2-Youth |\n",
      "|2003       |1004       |Group-3-Women |\n",
      "|2004       |1002       |Group-4-Women |\n",
      "|2005       |1004       |Group-5-Youth |\n",
      "|2006       |1003       |Group-6-Men   |\n",
      "|2007       |1003       |Group-7-Women |\n",
      "|2008       |1004       |Group-8-Women |\n",
      "|2009       |1005       |Group-9-Youth |\n",
      "|2010       |1004       |Group-10-Men  |\n",
      "|2011       |1003       |Group-11-Youth|\n",
      "|2012       |1005       |Group-12-Youth|\n",
      "|2013       |1002       |Group-13-Youth|\n",
      "|2014       |1002       |Group-14-Men  |\n",
      "|2015       |1004       |Group-15-Youth|\n",
      "+-----------+-----------+--------------+\n",
      "\n"
     ]
    }
   ],
   "source": [
    "group_df = spark.read.csv(\"./inputs/ad_groups.csv\", header=True, inferSchema=True)\n",
    "group_df.show(truncate=False)"
   ]
  },
  {
   "cell_type": "code",
   "execution_count": 17,
   "metadata": {},
   "outputs": [
    {
     "name": "stdout",
     "output_type": "stream",
     "text": [
      "root\n",
      " |-- Ad_Group_ID: integer (nullable = true)\n",
      " |-- Campaign_ID: integer (nullable = true)\n",
      " |-- Ad_Group_Name: string (nullable = true)\n",
      "\n"
     ]
    }
   ],
   "source": [
    "group_df.printSchema()"
   ]
  },
  {
   "cell_type": "code",
   "execution_count": 18,
   "metadata": {},
   "outputs": [
    {
     "name": "stdout",
     "output_type": "stream",
     "text": [
      "+-----------+-----------+-------------+---+--------+\n",
      "|ad_group_id|campaign_id|ad_group_name|id |audience|\n",
      "+-----------+-----------+-------------+---+--------+\n",
      "|2001       |1002       |Group_1      |1  |Women   |\n",
      "|2002       |1003       |Group_2      |2  |Youth   |\n",
      "|2003       |1004       |Group_3      |3  |Women   |\n",
      "|2004       |1002       |Group_4      |4  |Women   |\n",
      "|2005       |1004       |Group_5      |5  |Youth   |\n",
      "|2006       |1003       |Group_6      |6  |Men     |\n",
      "|2007       |1003       |Group_7      |7  |Women   |\n",
      "|2008       |1004       |Group_8      |8  |Women   |\n",
      "|2009       |1005       |Group_9      |9  |Youth   |\n",
      "|2010       |1004       |Group_10     |10 |Men     |\n",
      "|2011       |1003       |Group_11     |11 |Youth   |\n",
      "|2012       |1005       |Group_12     |12 |Youth   |\n",
      "|2013       |1002       |Group_13     |13 |Youth   |\n",
      "|2014       |1002       |Group_14     |14 |Men     |\n",
      "|2015       |1004       |Group_15     |15 |Youth   |\n",
      "+-----------+-----------+-------------+---+--------+\n",
      "\n"
     ]
    }
   ],
   "source": [
    "group_df = group_df.withColumnRenamed(\"Ad_Group_ID\", \"ad_group_id\")\n",
    "group_df = group_df.withColumnRenamed(\"Campaign_ID\", \"campaign_id\")\n",
    "group_df = group_df.withColumn(\"id\", split(group_df[\"Ad_Group_Name\"], \"-\")[1])\n",
    "group_df = group_df.withColumn(\"audience\", split(group_df[\"Ad_Group_Name\"], \"-\")[2])\n",
    "group_df = group_df.withColumn(\"prefijo\", split(group_df[\"Ad_Group_Name\"], \"-\")[0])\n",
    "group_df = group_df.withColumn(\"ad_group_name\", concat(col(\"prefijo\"), lit(\"_\"), col(\"id\")))\n",
    "group_df = group_df.drop(\"prefijo\")\n",
    "group_df.show(truncate=False)"
   ]
  },
  {
   "cell_type": "code",
   "execution_count": 19,
   "metadata": {},
   "outputs": [
    {
     "name": "stdout",
     "output_type": "stream",
     "text": [
      "+-----+-----------+--------------+----------------+\n",
      "|Ad_ID|Ad_Group_ID|Ad_Name       |Platform        |\n",
      "+-----+-----------+--------------+----------------+\n",
      "|3001 |2001       |Ad-1-Carousel |Facebook        |\n",
      "|3002 |2010       |Ad-2-Image    |Instagram       |\n",
      "|3003 |2004       |Ad-3-Carousel |Audience Network|\n",
      "|3004 |2003       |Ad-4-Video    |Audience Network|\n",
      "|3005 |2004       |Ad-5-Carousel |Audience Network|\n",
      "|3006 |2012       |Ad-6-Image    |Facebook        |\n",
      "|3007 |2008       |Ad-7-Carousel |Facebook        |\n",
      "|3008 |2013       |Ad-8-Carousel |Facebook        |\n",
      "|3009 |2011       |Ad-9-Video    |Facebook        |\n",
      "|3010 |2013       |Ad-10-Image   |Audience Network|\n",
      "|3011 |2002       |Ad-11-Carousel|Facebook        |\n",
      "|3012 |2015       |Ad-12-Video   |Audience Network|\n",
      "|3013 |2007       |Ad-13-Video   |Facebook        |\n",
      "|3014 |2009       |Ad-14-Image   |Instagram       |\n",
      "|3015 |2003       |Ad-15-Image   |Audience Network|\n",
      "|3016 |2010       |Ad-16-Video   |Facebook        |\n",
      "|3017 |2003       |Ad-17-Carousel|Audience Network|\n",
      "|3018 |2013       |Ad-18-Image   |Instagram       |\n",
      "|3019 |2007       |Ad-19-Carousel|Instagram       |\n",
      "|3020 |2004       |Ad-20-Video   |Audience Network|\n",
      "+-----+-----------+--------------+----------------+\n",
      "only showing top 20 rows\n",
      "\n"
     ]
    }
   ],
   "source": [
    "ads_df = spark.read.csv(\"./inputs/ads.csv\", header=True, inferSchema=True)\n",
    "ads_df.show(truncate=False)"
   ]
  },
  {
   "cell_type": "code",
   "execution_count": 20,
   "metadata": {},
   "outputs": [
    {
     "name": "stdout",
     "output_type": "stream",
     "text": [
      "root\n",
      " |-- Ad_ID: integer (nullable = true)\n",
      " |-- Ad_Group_ID: integer (nullable = true)\n",
      " |-- Ad_Name: string (nullable = true)\n",
      " |-- Platform: string (nullable = true)\n",
      "\n"
     ]
    }
   ],
   "source": [
    "ads_df.printSchema()"
   ]
  },
  {
   "cell_type": "code",
   "execution_count": 21,
   "metadata": {},
   "outputs": [
    {
     "name": "stdout",
     "output_type": "stream",
     "text": [
      "+-----+-----------+-------+----------------+---+--------+\n",
      "|ad_id|ad_group_id|ad_name|Platform        |id |ad_type |\n",
      "+-----+-----------+-------+----------------+---+--------+\n",
      "|3001 |2001       |Ad_1   |Facebook        |1  |Carousel|\n",
      "|3002 |2010       |Ad_2   |Instagram       |2  |Image   |\n",
      "|3003 |2004       |Ad_3   |Audience Network|3  |Carousel|\n",
      "|3004 |2003       |Ad_4   |Audience Network|4  |Video   |\n",
      "|3005 |2004       |Ad_5   |Audience Network|5  |Carousel|\n",
      "|3006 |2012       |Ad_6   |Facebook        |6  |Image   |\n",
      "|3007 |2008       |Ad_7   |Facebook        |7  |Carousel|\n",
      "|3008 |2013       |Ad_8   |Facebook        |8  |Carousel|\n",
      "|3009 |2011       |Ad_9   |Facebook        |9  |Video   |\n",
      "|3010 |2013       |Ad_10  |Audience Network|10 |Image   |\n",
      "|3011 |2002       |Ad_11  |Facebook        |11 |Carousel|\n",
      "|3012 |2015       |Ad_12  |Audience Network|12 |Video   |\n",
      "|3013 |2007       |Ad_13  |Facebook        |13 |Video   |\n",
      "|3014 |2009       |Ad_14  |Instagram       |14 |Image   |\n",
      "|3015 |2003       |Ad_15  |Audience Network|15 |Image   |\n",
      "|3016 |2010       |Ad_16  |Facebook        |16 |Video   |\n",
      "|3017 |2003       |Ad_17  |Audience Network|17 |Carousel|\n",
      "|3018 |2013       |Ad_18  |Instagram       |18 |Image   |\n",
      "|3019 |2007       |Ad_19  |Instagram       |19 |Carousel|\n",
      "|3020 |2004       |Ad_20  |Audience Network|20 |Video   |\n",
      "+-----+-----------+-------+----------------+---+--------+\n",
      "only showing top 20 rows\n",
      "\n"
     ]
    }
   ],
   "source": [
    "ads_df = ads_df.withColumnRenamed(\"Ad_ID\", \"ad_id\")\n",
    "ads_df = ads_df.withColumnRenamed(\"Ad_Group_ID\", \"ad_group_id\")\n",
    "ads_df = ads_df.withColumn(\"id\", split(ads_df[\"Ad_Name\"], \"-\")[1])\n",
    "ads_df = ads_df.withColumn(\"prefijo\", split(ads_df[\"Ad_Name\"], \"-\")[0])\n",
    "ads_df = ads_df.withColumn(\"ad_type\", split(ads_df[\"Ad_Name\"], \"-\")[2])\n",
    "ads_df = ads_df.withColumn(\"ad_name\", concat(col(\"prefijo\"), lit(\"_\"), col(\"id\")))\n",
    "ads_df = ads_df.drop(\"prefijo\")\n",
    "ads_df.show(truncate=False)"
   ]
  },
  {
   "cell_type": "code",
   "execution_count": 22,
   "metadata": {},
   "outputs": [
    {
     "name": "stdout",
     "output_type": "stream",
     "text": [
      "+----------+-----+----------------+-----------+------+------------+-----------+-----------+-----------+-----------+---------+------+\n",
      "|Date      |Ad_ID|Platform        |Impressions|Clicks|Interactions|Conversions|Quartile_25|Quartile_50|Quartile_75|Completed|Spend |\n",
      "+----------+-----+----------------+-----------+------+------------+-----------+-----------+-----------+-----------+---------+------+\n",
      "|2022-01-01|3001 |Facebook        |1419       |287   |65          |13         |486        |457        |422        |248      |99.61 |\n",
      "|2022-01-01|3002 |Instagram       |4844       |1676  |3303        |1613       |1739       |1545       |1544       |1079     |437.8 |\n",
      "|2022-01-01|3003 |Audience Network|2813       |125   |490         |71         |382        |381        |355        |312      |50.44 |\n",
      "|2022-01-01|3004 |Audience Network|2658       |128   |283         |86         |767        |581        |308        |228      |32.68 |\n",
      "|2022-01-01|3005 |Audience Network|4787       |283   |247         |75         |2031       |1722       |1164       |987      |38.03 |\n",
      "|2022-01-01|3006 |Facebook        |1359       |203   |925         |266        |643        |433        |224        |176      |52.23 |\n",
      "|2022-01-01|3007 |Facebook        |4506       |432   |312         |44         |802        |598        |309        |281      |118.48|\n",
      "|2022-01-01|3008 |Facebook        |4281       |389   |1724        |79         |923        |571        |510        |280      |83.63 |\n",
      "|2022-01-01|3009 |Facebook        |309        |17    |28          |0          |68         |44         |35         |34       |1.27  |\n",
      "|2022-01-01|3010 |Audience Network|664        |4     |7           |3          |151        |95         |47         |39       |0.78  |\n",
      "|2022-01-01|3011 |Facebook        |3955       |132   |118         |14         |1418       |1177       |1003       |551      |47.87 |\n",
      "|2022-01-01|3012 |Audience Network|3158       |24    |67          |17         |980        |661        |641        |436      |4.4   |\n",
      "|2022-01-01|3013 |Facebook        |994        |276   |207         |8          |316        |214        |131        |116      |71.18 |\n",
      "|2022-01-01|3014 |Instagram       |2920       |383   |297         |25         |438        |236        |221        |188      |192.14|\n",
      "|2022-01-01|3015 |Audience Network|368        |36    |65          |6          |112        |99         |70         |68       |11.68 |\n",
      "|2022-01-01|3016 |Facebook        |1837       |226   |935         |97         |844        |464        |323        |247      |88.07 |\n",
      "|2022-01-01|3017 |Audience Network|3078       |472   |397         |26         |853        |451        |388        |316      |82.78 |\n",
      "|2022-01-01|3018 |Instagram       |1734       |336   |449         |119        |666        |491        |394        |359      |100.29|\n",
      "|2022-01-01|3019 |Instagram       |424        |117   |92          |15         |68         |37         |23         |19       |23.17 |\n",
      "|2022-01-01|3020 |Audience Network|2036       |220   |195         |54         |414        |213        |197        |186      |72.62 |\n",
      "+----------+-----+----------------+-----------+------+------------+-----------+-----------+-----------+-----------+---------+------+\n",
      "only showing top 20 rows\n",
      "\n"
     ]
    }
   ],
   "source": [
    "daily_df = spark.read.csv(\"./inputs/daily_data.csv\", header=True, inferSchema=True)\n",
    "daily_df.withColumnRenamed(\"Ad_ID\", \"ad_id\")\n",
    "daily_df.show(truncate=False)"
   ]
  },
  {
   "cell_type": "code",
   "execution_count": 23,
   "metadata": {},
   "outputs": [
    {
     "name": "stdout",
     "output_type": "stream",
     "text": [
      "+-----+----------------+----------+-----------+------+------------+-----------+-----------+-----------+-----------+---------+------+-----------+-------+---+--------+\n",
      "|Ad_ID|Platform        |Date      |Impressions|Clicks|Interactions|Conversions|Quartile_25|Quartile_50|Quartile_75|Completed|Spend |ad_group_id|ad_name|id |ad_type |\n",
      "+-----+----------------+----------+-----------+------+------------+-----------+-----------+-----------+-----------+---------+------+-----------+-------+---+--------+\n",
      "|3001 |Facebook        |2022-01-01|1419       |287   |65          |13         |486        |457        |422        |248      |99.61 |2001       |Ad_1   |1  |Carousel|\n",
      "|3002 |Instagram       |2022-01-01|4844       |1676  |3303        |1613       |1739       |1545       |1544       |1079     |437.8 |2010       |Ad_2   |2  |Image   |\n",
      "|3003 |Audience Network|2022-01-01|2813       |125   |490         |71         |382        |381        |355        |312      |50.44 |2004       |Ad_3   |3  |Carousel|\n",
      "|3004 |Audience Network|2022-01-01|2658       |128   |283         |86         |767        |581        |308        |228      |32.68 |2003       |Ad_4   |4  |Video   |\n",
      "|3005 |Audience Network|2022-01-01|4787       |283   |247         |75         |2031       |1722       |1164       |987      |38.03 |2004       |Ad_5   |5  |Carousel|\n",
      "|3006 |Facebook        |2022-01-01|1359       |203   |925         |266        |643        |433        |224        |176      |52.23 |2012       |Ad_6   |6  |Image   |\n",
      "|3007 |Facebook        |2022-01-01|4506       |432   |312         |44         |802        |598        |309        |281      |118.48|2008       |Ad_7   |7  |Carousel|\n",
      "|3008 |Facebook        |2022-01-01|4281       |389   |1724        |79         |923        |571        |510        |280      |83.63 |2013       |Ad_8   |8  |Carousel|\n",
      "|3009 |Facebook        |2022-01-01|309        |17    |28          |0          |68         |44         |35         |34       |1.27  |2011       |Ad_9   |9  |Video   |\n",
      "|3010 |Audience Network|2022-01-01|664        |4     |7           |3          |151        |95         |47         |39       |0.78  |2013       |Ad_10  |10 |Image   |\n",
      "|3011 |Facebook        |2022-01-01|3955       |132   |118         |14         |1418       |1177       |1003       |551      |47.87 |2002       |Ad_11  |11 |Carousel|\n",
      "|3012 |Audience Network|2022-01-01|3158       |24    |67          |17         |980        |661        |641        |436      |4.4   |2015       |Ad_12  |12 |Video   |\n",
      "|3013 |Facebook        |2022-01-01|994        |276   |207         |8          |316        |214        |131        |116      |71.18 |2007       |Ad_13  |13 |Video   |\n",
      "|3014 |Instagram       |2022-01-01|2920       |383   |297         |25         |438        |236        |221        |188      |192.14|2009       |Ad_14  |14 |Image   |\n",
      "|3015 |Audience Network|2022-01-01|368        |36    |65          |6          |112        |99         |70         |68       |11.68 |2003       |Ad_15  |15 |Image   |\n",
      "|3016 |Facebook        |2022-01-01|1837       |226   |935         |97         |844        |464        |323        |247      |88.07 |2010       |Ad_16  |16 |Video   |\n",
      "|3017 |Audience Network|2022-01-01|3078       |472   |397         |26         |853        |451        |388        |316      |82.78 |2003       |Ad_17  |17 |Carousel|\n",
      "|3018 |Instagram       |2022-01-01|1734       |336   |449         |119        |666        |491        |394        |359      |100.29|2013       |Ad_18  |18 |Image   |\n",
      "|3019 |Instagram       |2022-01-01|424        |117   |92          |15         |68         |37         |23         |19       |23.17 |2007       |Ad_19  |19 |Carousel|\n",
      "|3020 |Audience Network|2022-01-01|2036       |220   |195         |54         |414        |213        |197        |186      |72.62 |2004       |Ad_20  |20 |Video   |\n",
      "+-----+----------------+----------+-----------+------+------------+-----------+-----------+-----------+-----------+---------+------+-----------+-------+---+--------+\n",
      "only showing top 20 rows\n",
      "\n"
     ]
    }
   ],
   "source": [
    "# join daily_df with ads_df using ad_id and Platform\n",
    "daily_df = daily_df.join(ads_df, [\"ad_id\", \"Platform\"], \"left\")\n",
    "daily_df.show(truncate=False)"
   ]
  },
  {
   "cell_type": "code",
   "execution_count": 24,
   "metadata": {},
   "outputs": [
    {
     "name": "stdout",
     "output_type": "stream",
     "text": [
      "+-----------+-----+----------------+----------+-----------+------+------------+-----------+-----------+-----------+-----------+---------+------+-------+---+--------+-----------+-------------+---+--------+\n",
      "|ad_group_id|Ad_ID|Platform        |Date      |Impressions|Clicks|Interactions|Conversions|Quartile_25|Quartile_50|Quartile_75|Completed|Spend |ad_name|id |ad_type |campaign_id|ad_group_name|id |audience|\n",
      "+-----------+-----+----------------+----------+-----------+------+------------+-----------+-----------+-----------+-----------+---------+------+-------+---+--------+-----------+-------------+---+--------+\n",
      "|2001       |3001 |Facebook        |2022-01-01|1419       |287   |65          |13         |486        |457        |422        |248      |99.61 |Ad_1   |1  |Carousel|1002       |Group_1      |1  |Women   |\n",
      "|2010       |3002 |Instagram       |2022-01-01|4844       |1676  |3303        |1613       |1739       |1545       |1544       |1079     |437.8 |Ad_2   |2  |Image   |1004       |Group_10     |10 |Men     |\n",
      "|2004       |3003 |Audience Network|2022-01-01|2813       |125   |490         |71         |382        |381        |355        |312      |50.44 |Ad_3   |3  |Carousel|1002       |Group_4      |4  |Women   |\n",
      "|2003       |3004 |Audience Network|2022-01-01|2658       |128   |283         |86         |767        |581        |308        |228      |32.68 |Ad_4   |4  |Video   |1004       |Group_3      |3  |Women   |\n",
      "|2004       |3005 |Audience Network|2022-01-01|4787       |283   |247         |75         |2031       |1722       |1164       |987      |38.03 |Ad_5   |5  |Carousel|1002       |Group_4      |4  |Women   |\n",
      "|2012       |3006 |Facebook        |2022-01-01|1359       |203   |925         |266        |643        |433        |224        |176      |52.23 |Ad_6   |6  |Image   |1005       |Group_12     |12 |Youth   |\n",
      "|2008       |3007 |Facebook        |2022-01-01|4506       |432   |312         |44         |802        |598        |309        |281      |118.48|Ad_7   |7  |Carousel|1004       |Group_8      |8  |Women   |\n",
      "|2013       |3008 |Facebook        |2022-01-01|4281       |389   |1724        |79         |923        |571        |510        |280      |83.63 |Ad_8   |8  |Carousel|1002       |Group_13     |13 |Youth   |\n",
      "|2011       |3009 |Facebook        |2022-01-01|309        |17    |28          |0          |68         |44         |35         |34       |1.27  |Ad_9   |9  |Video   |1003       |Group_11     |11 |Youth   |\n",
      "|2013       |3010 |Audience Network|2022-01-01|664        |4     |7           |3          |151        |95         |47         |39       |0.78  |Ad_10  |10 |Image   |1002       |Group_13     |13 |Youth   |\n",
      "|2002       |3011 |Facebook        |2022-01-01|3955       |132   |118         |14         |1418       |1177       |1003       |551      |47.87 |Ad_11  |11 |Carousel|1003       |Group_2      |2  |Youth   |\n",
      "|2015       |3012 |Audience Network|2022-01-01|3158       |24    |67          |17         |980        |661        |641        |436      |4.4   |Ad_12  |12 |Video   |1004       |Group_15     |15 |Youth   |\n",
      "|2007       |3013 |Facebook        |2022-01-01|994        |276   |207         |8          |316        |214        |131        |116      |71.18 |Ad_13  |13 |Video   |1003       |Group_7      |7  |Women   |\n",
      "|2009       |3014 |Instagram       |2022-01-01|2920       |383   |297         |25         |438        |236        |221        |188      |192.14|Ad_14  |14 |Image   |1005       |Group_9      |9  |Youth   |\n",
      "|2003       |3015 |Audience Network|2022-01-01|368        |36    |65          |6          |112        |99         |70         |68       |11.68 |Ad_15  |15 |Image   |1004       |Group_3      |3  |Women   |\n",
      "|2010       |3016 |Facebook        |2022-01-01|1837       |226   |935         |97         |844        |464        |323        |247      |88.07 |Ad_16  |16 |Video   |1004       |Group_10     |10 |Men     |\n",
      "|2003       |3017 |Audience Network|2022-01-01|3078       |472   |397         |26         |853        |451        |388        |316      |82.78 |Ad_17  |17 |Carousel|1004       |Group_3      |3  |Women   |\n",
      "|2013       |3018 |Instagram       |2022-01-01|1734       |336   |449         |119        |666        |491        |394        |359      |100.29|Ad_18  |18 |Image   |1002       |Group_13     |13 |Youth   |\n",
      "|2007       |3019 |Instagram       |2022-01-01|424        |117   |92          |15         |68         |37         |23         |19       |23.17 |Ad_19  |19 |Carousel|1003       |Group_7      |7  |Women   |\n",
      "|2004       |3020 |Audience Network|2022-01-01|2036       |220   |195         |54         |414        |213        |197        |186      |72.62 |Ad_20  |20 |Video   |1002       |Group_4      |4  |Women   |\n",
      "+-----------+-----+----------------+----------+-----------+------+------------+-----------+-----------+-----------+-----------+---------+------+-------+---+--------+-----------+-------------+---+--------+\n",
      "only showing top 20 rows\n",
      "\n"
     ]
    }
   ],
   "source": [
    "daily_df = daily_df.join(group_df, [\"ad_group_id\"], \"left\")\n",
    "daily_df.show(truncate=False)\n"
   ]
  },
  {
   "cell_type": "code",
   "execution_count": 25,
   "metadata": {},
   "outputs": [
    {
     "name": "stdout",
     "output_type": "stream",
     "text": [
      "+-----------+---+-------+---------+\n",
      "|campaign_id|id |marca  |tipo     |\n",
      "+-----------+---+-------+---------+\n",
      "|1001       |1  |Brand B|Awareness|\n",
      "|1002       |2  |Brand A|Launch   |\n",
      "|1003       |3  |Brand C|Awareness|\n",
      "|1004       |4  |Brand B|Awareness|\n",
      "|1005       |5  |Brand B|Awareness|\n",
      "+-----------+---+-------+---------+\n",
      "\n"
     ]
    }
   ],
   "source": [
    "\n",
    "campaign_df = campaign_df.withColumnRenamed(\"Campaign_ID\", \"campaign_id\")\n",
    "campaign_df.show(truncate=False)"
   ]
  },
  {
   "cell_type": "code",
   "execution_count": 26,
   "metadata": {},
   "outputs": [
    {
     "name": "stdout",
     "output_type": "stream",
     "text": [
      "+-----------+-----------+-----+----------------+----------+-----------+------+------------+-----------+-----------+-----------+-----------+---------+------+-------+---+--------+-------------+---+--------+---+-------+---------+\n",
      "|campaign_id|ad_group_id|Ad_ID|Platform        |Date      |Impressions|Clicks|Interactions|Conversions|Quartile_25|Quartile_50|Quartile_75|Completed|Spend |ad_name|id |ad_type |ad_group_name|id |audience|id |marca  |tipo     |\n",
      "+-----------+-----------+-----+----------------+----------+-----------+------+------------+-----------+-----------+-----------+-----------+---------+------+-------+---+--------+-------------+---+--------+---+-------+---------+\n",
      "|1002       |2001       |3001 |Facebook        |2022-01-01|1419       |287   |65          |13         |486        |457        |422        |248      |99.61 |Ad_1   |1  |Carousel|Group_1      |1  |Women   |2  |Brand A|Launch   |\n",
      "|1004       |2010       |3002 |Instagram       |2022-01-01|4844       |1676  |3303        |1613       |1739       |1545       |1544       |1079     |437.8 |Ad_2   |2  |Image   |Group_10     |10 |Men     |4  |Brand B|Awareness|\n",
      "|1002       |2004       |3003 |Audience Network|2022-01-01|2813       |125   |490         |71         |382        |381        |355        |312      |50.44 |Ad_3   |3  |Carousel|Group_4      |4  |Women   |2  |Brand A|Launch   |\n",
      "|1004       |2003       |3004 |Audience Network|2022-01-01|2658       |128   |283         |86         |767        |581        |308        |228      |32.68 |Ad_4   |4  |Video   |Group_3      |3  |Women   |4  |Brand B|Awareness|\n",
      "|1002       |2004       |3005 |Audience Network|2022-01-01|4787       |283   |247         |75         |2031       |1722       |1164       |987      |38.03 |Ad_5   |5  |Carousel|Group_4      |4  |Women   |2  |Brand A|Launch   |\n",
      "|1005       |2012       |3006 |Facebook        |2022-01-01|1359       |203   |925         |266        |643        |433        |224        |176      |52.23 |Ad_6   |6  |Image   |Group_12     |12 |Youth   |5  |Brand B|Awareness|\n",
      "|1004       |2008       |3007 |Facebook        |2022-01-01|4506       |432   |312         |44         |802        |598        |309        |281      |118.48|Ad_7   |7  |Carousel|Group_8      |8  |Women   |4  |Brand B|Awareness|\n",
      "|1002       |2013       |3008 |Facebook        |2022-01-01|4281       |389   |1724        |79         |923        |571        |510        |280      |83.63 |Ad_8   |8  |Carousel|Group_13     |13 |Youth   |2  |Brand A|Launch   |\n",
      "|1003       |2011       |3009 |Facebook        |2022-01-01|309        |17    |28          |0          |68         |44         |35         |34       |1.27  |Ad_9   |9  |Video   |Group_11     |11 |Youth   |3  |Brand C|Awareness|\n",
      "|1002       |2013       |3010 |Audience Network|2022-01-01|664        |4     |7           |3          |151        |95         |47         |39       |0.78  |Ad_10  |10 |Image   |Group_13     |13 |Youth   |2  |Brand A|Launch   |\n",
      "|1003       |2002       |3011 |Facebook        |2022-01-01|3955       |132   |118         |14         |1418       |1177       |1003       |551      |47.87 |Ad_11  |11 |Carousel|Group_2      |2  |Youth   |3  |Brand C|Awareness|\n",
      "|1004       |2015       |3012 |Audience Network|2022-01-01|3158       |24    |67          |17         |980        |661        |641        |436      |4.4   |Ad_12  |12 |Video   |Group_15     |15 |Youth   |4  |Brand B|Awareness|\n",
      "|1003       |2007       |3013 |Facebook        |2022-01-01|994        |276   |207         |8          |316        |214        |131        |116      |71.18 |Ad_13  |13 |Video   |Group_7      |7  |Women   |3  |Brand C|Awareness|\n",
      "|1005       |2009       |3014 |Instagram       |2022-01-01|2920       |383   |297         |25         |438        |236        |221        |188      |192.14|Ad_14  |14 |Image   |Group_9      |9  |Youth   |5  |Brand B|Awareness|\n",
      "|1004       |2003       |3015 |Audience Network|2022-01-01|368        |36    |65          |6          |112        |99         |70         |68       |11.68 |Ad_15  |15 |Image   |Group_3      |3  |Women   |4  |Brand B|Awareness|\n",
      "|1004       |2010       |3016 |Facebook        |2022-01-01|1837       |226   |935         |97         |844        |464        |323        |247      |88.07 |Ad_16  |16 |Video   |Group_10     |10 |Men     |4  |Brand B|Awareness|\n",
      "|1004       |2003       |3017 |Audience Network|2022-01-01|3078       |472   |397         |26         |853        |451        |388        |316      |82.78 |Ad_17  |17 |Carousel|Group_3      |3  |Women   |4  |Brand B|Awareness|\n",
      "|1002       |2013       |3018 |Instagram       |2022-01-01|1734       |336   |449         |119        |666        |491        |394        |359      |100.29|Ad_18  |18 |Image   |Group_13     |13 |Youth   |2  |Brand A|Launch   |\n",
      "|1003       |2007       |3019 |Instagram       |2022-01-01|424        |117   |92          |15         |68         |37         |23         |19       |23.17 |Ad_19  |19 |Carousel|Group_7      |7  |Women   |3  |Brand C|Awareness|\n",
      "|1002       |2004       |3020 |Audience Network|2022-01-01|2036       |220   |195         |54         |414        |213        |197        |186      |72.62 |Ad_20  |20 |Video   |Group_4      |4  |Women   |2  |Brand A|Launch   |\n",
      "+-----------+-----------+-----+----------------+----------+-----------+------+------------+-----------+-----------+-----------+-----------+---------+------+-------+---+--------+-------------+---+--------+---+-------+---------+\n",
      "only showing top 20 rows\n",
      "\n"
     ]
    }
   ],
   "source": [
    "daily_df = daily_df.join(campaign_df, [\"campaign_id\"], \"left\")\n",
    "daily_df.show(truncate=False)"
   ]
  },
  {
   "cell_type": "code",
   "execution_count": 27,
   "metadata": {},
   "outputs": [
    {
     "name": "stdout",
     "output_type": "stream",
     "text": [
      "root\n",
      " |-- campaign_id: integer (nullable = true)\n",
      " |-- ad_group_id: integer (nullable = true)\n",
      " |-- Ad_ID: integer (nullable = true)\n",
      " |-- Platform: string (nullable = true)\n",
      " |-- Date: date (nullable = true)\n",
      " |-- Impressions: integer (nullable = true)\n",
      " |-- Clicks: integer (nullable = true)\n",
      " |-- Interactions: integer (nullable = true)\n",
      " |-- Conversions: integer (nullable = true)\n",
      " |-- Quartile_25: integer (nullable = true)\n",
      " |-- Quartile_50: integer (nullable = true)\n",
      " |-- Quartile_75: integer (nullable = true)\n",
      " |-- Completed: integer (nullable = true)\n",
      " |-- Spend: double (nullable = true)\n",
      " |-- ad_name: string (nullable = true)\n",
      " |-- id: string (nullable = true)\n",
      " |-- ad_type: string (nullable = true)\n",
      " |-- ad_group_name: string (nullable = true)\n",
      " |-- id: string (nullable = true)\n",
      " |-- audience: string (nullable = true)\n",
      " |-- id: string (nullable = true)\n",
      " |-- marca: string (nullable = true)\n",
      " |-- tipo: string (nullable = true)\n",
      "\n"
     ]
    }
   ],
   "source": [
    "daily_df.printSchema()"
   ]
  },
  {
   "cell_type": "code",
   "execution_count": 29,
   "metadata": {},
   "outputs": [
    {
     "name": "stdout",
     "output_type": "stream",
     "text": [
      "+-----------+-----------+-----+----------------+----------+-----------+------+------------+-----------+-----------+-----------+-----------+---------+------+-------+---+--------+-------------+---+--------+---+-------+---------+\n",
      "|campaign_id|ad_group_id|ad_id|platform        |date      |impressions|clicks|interactions|conversions|quartile_25|quartile_50|quartile_75|completed|spend |ad_name|id |ad_type |ad_group_name|id |audience|id |marca  |tipo     |\n",
      "+-----------+-----------+-----+----------------+----------+-----------+------+------------+-----------+-----------+-----------+-----------+---------+------+-------+---+--------+-------------+---+--------+---+-------+---------+\n",
      "|1002       |2001       |3001 |Facebook        |2022-01-01|1419       |287   |65          |13         |486        |457        |422        |248      |99.61 |Ad_1   |1  |Carousel|Group_1      |1  |Women   |2  |Brand A|Launch   |\n",
      "|1004       |2010       |3002 |Instagram       |2022-01-01|4844       |1676  |3303        |1613       |1739       |1545       |1544       |1079     |437.8 |Ad_2   |2  |Image   |Group_10     |10 |Men     |4  |Brand B|Awareness|\n",
      "|1002       |2004       |3003 |Audience Network|2022-01-01|2813       |125   |490         |71         |382        |381        |355        |312      |50.44 |Ad_3   |3  |Carousel|Group_4      |4  |Women   |2  |Brand A|Launch   |\n",
      "|1004       |2003       |3004 |Audience Network|2022-01-01|2658       |128   |283         |86         |767        |581        |308        |228      |32.68 |Ad_4   |4  |Video   |Group_3      |3  |Women   |4  |Brand B|Awareness|\n",
      "|1002       |2004       |3005 |Audience Network|2022-01-01|4787       |283   |247         |75         |2031       |1722       |1164       |987      |38.03 |Ad_5   |5  |Carousel|Group_4      |4  |Women   |2  |Brand A|Launch   |\n",
      "|1005       |2012       |3006 |Facebook        |2022-01-01|1359       |203   |925         |266        |643        |433        |224        |176      |52.23 |Ad_6   |6  |Image   |Group_12     |12 |Youth   |5  |Brand B|Awareness|\n",
      "|1004       |2008       |3007 |Facebook        |2022-01-01|4506       |432   |312         |44         |802        |598        |309        |281      |118.48|Ad_7   |7  |Carousel|Group_8      |8  |Women   |4  |Brand B|Awareness|\n",
      "|1002       |2013       |3008 |Facebook        |2022-01-01|4281       |389   |1724        |79         |923        |571        |510        |280      |83.63 |Ad_8   |8  |Carousel|Group_13     |13 |Youth   |2  |Brand A|Launch   |\n",
      "|1003       |2011       |3009 |Facebook        |2022-01-01|309        |17    |28          |0          |68         |44         |35         |34       |1.27  |Ad_9   |9  |Video   |Group_11     |11 |Youth   |3  |Brand C|Awareness|\n",
      "|1002       |2013       |3010 |Audience Network|2022-01-01|664        |4     |7           |3          |151        |95         |47         |39       |0.78  |Ad_10  |10 |Image   |Group_13     |13 |Youth   |2  |Brand A|Launch   |\n",
      "|1003       |2002       |3011 |Facebook        |2022-01-01|3955       |132   |118         |14         |1418       |1177       |1003       |551      |47.87 |Ad_11  |11 |Carousel|Group_2      |2  |Youth   |3  |Brand C|Awareness|\n",
      "|1004       |2015       |3012 |Audience Network|2022-01-01|3158       |24    |67          |17         |980        |661        |641        |436      |4.4   |Ad_12  |12 |Video   |Group_15     |15 |Youth   |4  |Brand B|Awareness|\n",
      "|1003       |2007       |3013 |Facebook        |2022-01-01|994        |276   |207         |8          |316        |214        |131        |116      |71.18 |Ad_13  |13 |Video   |Group_7      |7  |Women   |3  |Brand C|Awareness|\n",
      "|1005       |2009       |3014 |Instagram       |2022-01-01|2920       |383   |297         |25         |438        |236        |221        |188      |192.14|Ad_14  |14 |Image   |Group_9      |9  |Youth   |5  |Brand B|Awareness|\n",
      "|1004       |2003       |3015 |Audience Network|2022-01-01|368        |36    |65          |6          |112        |99         |70         |68       |11.68 |Ad_15  |15 |Image   |Group_3      |3  |Women   |4  |Brand B|Awareness|\n",
      "|1004       |2010       |3016 |Facebook        |2022-01-01|1837       |226   |935         |97         |844        |464        |323        |247      |88.07 |Ad_16  |16 |Video   |Group_10     |10 |Men     |4  |Brand B|Awareness|\n",
      "|1004       |2003       |3017 |Audience Network|2022-01-01|3078       |472   |397         |26         |853        |451        |388        |316      |82.78 |Ad_17  |17 |Carousel|Group_3      |3  |Women   |4  |Brand B|Awareness|\n",
      "|1002       |2013       |3018 |Instagram       |2022-01-01|1734       |336   |449         |119        |666        |491        |394        |359      |100.29|Ad_18  |18 |Image   |Group_13     |13 |Youth   |2  |Brand A|Launch   |\n",
      "|1003       |2007       |3019 |Instagram       |2022-01-01|424        |117   |92          |15         |68         |37         |23         |19       |23.17 |Ad_19  |19 |Carousel|Group_7      |7  |Women   |3  |Brand C|Awareness|\n",
      "|1002       |2004       |3020 |Audience Network|2022-01-01|2036       |220   |195         |54         |414        |213        |197        |186      |72.62 |Ad_20  |20 |Video   |Group_4      |4  |Women   |2  |Brand A|Launch   |\n",
      "+-----------+-----------+-----+----------------+----------+-----------+------+------------+-----------+-----------+-----------+-----------+---------+------+-------+---+--------+-------------+---+--------+---+-------+---------+\n",
      "only showing top 20 rows\n",
      "\n"
     ]
    }
   ],
   "source": [
    "# convert column names to snake_case obtaining the column names from the schema an converting to dictonary\n",
    "columns = daily_df.schema.names\n",
    "columns = {col: col.replace(\" \", \"_\").lower() for col in columns}\n",
    "# rename columns using the dictionary\n",
    "for column in columns:\n",
    "    daily_df = daily_df.withColumnRenamed(column, columns[column])\n",
    "daily_df.show(truncate=False)"
   ]
  },
  {
   "cell_type": "code",
   "execution_count": 30,
   "metadata": {},
   "outputs": [
    {
     "name": "stdout",
     "output_type": "stream",
     "text": [
      "Missing columns: set()\n",
      "Extra columns: {'id'}\n"
     ]
    }
   ],
   "source": [
    "# reorder columns in df using the list of columns\n",
    "cols = [\n",
    "    \"campaign_id\", \"ad_group_id\", \"ad_group_name\", \"ad_id\", \"ad_name\", \"platform\", \"date\",\n",
    "    \"marca\", \"tipo\", \"audience\", \"ad_type\",\n",
    "    \"impressions\", \"clicks\", \"spend\", \"interactions\", \"conversions\", \"quartile_25\", \"quartile_50\", \"quartile_75\", \"completed\"]\n",
    "# Lista de columnas del DataFrame actual\n",
    "actual_cols = set(daily_df.columns)\n",
    "\n",
    "# Lista de columnas que quieres\n",
    "expected_cols = set(cols)\n",
    "\n",
    "# Comparar\n",
    "missing = expected_cols - actual_cols\n",
    "extra = actual_cols - expected_cols\n",
    "print(f\"Missing columns: {missing}\")\n",
    "print(f\"Extra columns: {extra}\")"
   ]
  },
  {
   "cell_type": "code",
   "execution_count": 31,
   "metadata": {},
   "outputs": [
    {
     "name": "stdout",
     "output_type": "stream",
     "text": [
      "+-----------+-----------+-------------+-----+-------+----------------+----------+-------+---------+--------+--------+-----------+------+------+------------+-----------+-----------+-----------+-----------+---------+\n",
      "|campaign_id|ad_group_id|ad_group_name|ad_id|ad_name|platform        |date      |marca  |tipo     |audience|ad_type |impressions|clicks|spend |interactions|conversions|quartile_25|quartile_50|quartile_75|completed|\n",
      "+-----------+-----------+-------------+-----+-------+----------------+----------+-------+---------+--------+--------+-----------+------+------+------------+-----------+-----------+-----------+-----------+---------+\n",
      "|1002       |2001       |Group_1      |3001 |Ad_1   |Facebook        |2022-01-01|Brand A|Launch   |Women   |Carousel|1419       |287   |99.61 |65          |13         |486        |457        |422        |248      |\n",
      "|1004       |2010       |Group_10     |3002 |Ad_2   |Instagram       |2022-01-01|Brand B|Awareness|Men     |Image   |4844       |1676  |437.8 |3303        |1613       |1739       |1545       |1544       |1079     |\n",
      "|1002       |2004       |Group_4      |3003 |Ad_3   |Audience Network|2022-01-01|Brand A|Launch   |Women   |Carousel|2813       |125   |50.44 |490         |71         |382        |381        |355        |312      |\n",
      "|1004       |2003       |Group_3      |3004 |Ad_4   |Audience Network|2022-01-01|Brand B|Awareness|Women   |Video   |2658       |128   |32.68 |283         |86         |767        |581        |308        |228      |\n",
      "|1002       |2004       |Group_4      |3005 |Ad_5   |Audience Network|2022-01-01|Brand A|Launch   |Women   |Carousel|4787       |283   |38.03 |247         |75         |2031       |1722       |1164       |987      |\n",
      "|1005       |2012       |Group_12     |3006 |Ad_6   |Facebook        |2022-01-01|Brand B|Awareness|Youth   |Image   |1359       |203   |52.23 |925         |266        |643        |433        |224        |176      |\n",
      "|1004       |2008       |Group_8      |3007 |Ad_7   |Facebook        |2022-01-01|Brand B|Awareness|Women   |Carousel|4506       |432   |118.48|312         |44         |802        |598        |309        |281      |\n",
      "|1002       |2013       |Group_13     |3008 |Ad_8   |Facebook        |2022-01-01|Brand A|Launch   |Youth   |Carousel|4281       |389   |83.63 |1724        |79         |923        |571        |510        |280      |\n",
      "|1003       |2011       |Group_11     |3009 |Ad_9   |Facebook        |2022-01-01|Brand C|Awareness|Youth   |Video   |309        |17    |1.27  |28          |0          |68         |44         |35         |34       |\n",
      "|1002       |2013       |Group_13     |3010 |Ad_10  |Audience Network|2022-01-01|Brand A|Launch   |Youth   |Image   |664        |4     |0.78  |7           |3          |151        |95         |47         |39       |\n",
      "|1003       |2002       |Group_2      |3011 |Ad_11  |Facebook        |2022-01-01|Brand C|Awareness|Youth   |Carousel|3955       |132   |47.87 |118         |14         |1418       |1177       |1003       |551      |\n",
      "|1004       |2015       |Group_15     |3012 |Ad_12  |Audience Network|2022-01-01|Brand B|Awareness|Youth   |Video   |3158       |24    |4.4   |67          |17         |980        |661        |641        |436      |\n",
      "|1003       |2007       |Group_7      |3013 |Ad_13  |Facebook        |2022-01-01|Brand C|Awareness|Women   |Video   |994        |276   |71.18 |207         |8          |316        |214        |131        |116      |\n",
      "|1005       |2009       |Group_9      |3014 |Ad_14  |Instagram       |2022-01-01|Brand B|Awareness|Youth   |Image   |2920       |383   |192.14|297         |25         |438        |236        |221        |188      |\n",
      "|1004       |2003       |Group_3      |3015 |Ad_15  |Audience Network|2022-01-01|Brand B|Awareness|Women   |Image   |368        |36    |11.68 |65          |6          |112        |99         |70         |68       |\n",
      "|1004       |2010       |Group_10     |3016 |Ad_16  |Facebook        |2022-01-01|Brand B|Awareness|Men     |Video   |1837       |226   |88.07 |935         |97         |844        |464        |323        |247      |\n",
      "|1004       |2003       |Group_3      |3017 |Ad_17  |Audience Network|2022-01-01|Brand B|Awareness|Women   |Carousel|3078       |472   |82.78 |397         |26         |853        |451        |388        |316      |\n",
      "|1002       |2013       |Group_13     |3018 |Ad_18  |Instagram       |2022-01-01|Brand A|Launch   |Youth   |Image   |1734       |336   |100.29|449         |119        |666        |491        |394        |359      |\n",
      "|1003       |2007       |Group_7      |3019 |Ad_19  |Instagram       |2022-01-01|Brand C|Awareness|Women   |Carousel|424        |117   |23.17 |92          |15         |68         |37         |23         |19       |\n",
      "|1002       |2004       |Group_4      |3020 |Ad_20  |Audience Network|2022-01-01|Brand A|Launch   |Women   |Video   |2036       |220   |72.62 |195         |54         |414        |213        |197        |186      |\n",
      "+-----------+-----------+-------------+-----+-------+----------------+----------+-------+---------+--------+--------+-----------+------+------+------------+-----------+-----------+-----------+-----------+---------+\n",
      "only showing top 20 rows\n",
      "\n"
     ]
    }
   ],
   "source": [
    "\n",
    "# reorder columns with list of columns names\n",
    "daily_df = daily_df.select(cols)\n",
    "daily_df.show(truncate=False)"
   ]
  },
  {
   "cell_type": "code",
   "execution_count": 32,
   "metadata": {},
   "outputs": [],
   "source": [
    "\n",
    "# write the dataframe to csv format in just one file\n",
    "daily_df.coalesce(1).write.mode(\"overwrite\").csv(\"./outputs/mfbl/daily_data.csv\", header=True)"
   ]
  },
  {
   "cell_type": "code",
   "execution_count": null,
   "metadata": {},
   "outputs": [],
   "source": []
  },
  {
   "cell_type": "code",
   "execution_count": null,
   "metadata": {},
   "outputs": [],
   "source": []
  }
 ],
 "metadata": {
  "kernelspec": {
   "display_name": "Python 3 (ipykernel)",
   "language": "python",
   "name": "python3"
  },
  "language_info": {
   "codemirror_mode": {
    "name": "ipython",
    "version": 3
   },
   "file_extension": ".py",
   "mimetype": "text/x-python",
   "name": "python",
   "nbconvert_exporter": "python",
   "pygments_lexer": "ipython3",
   "version": "3.11.6"
  }
 },
 "nbformat": 4,
 "nbformat_minor": 2
}
