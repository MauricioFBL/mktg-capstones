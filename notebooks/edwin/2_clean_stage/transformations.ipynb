{
 "cells": [
  {
   "cell_type": "code",
   "execution_count": 1,
   "metadata": {},
   "outputs": [],
   "source": [
    "from pyspark.sql import SparkSession\n",
    "\n",
    "spark = SparkSession.builder \\\n",
    "    .appName(\"edwin_app\") \\\n",
    "    .config(\"spark.some.config.option\", \"valor\") \\\n",
    "    .getOrCreate()"
   ]
  },
  {
   "cell_type": "code",
   "execution_count": null,
   "metadata": {},
   "outputs": [],
   "source": [
    "df = spark.read.option('header', True).csv('./outputs/edwin/raw_stage/all_policies_table')"
   ]
  },
  {
   "cell_type": "code",
   "execution_count": 9,
   "metadata": {},
   "outputs": [
    {
     "name": "stdout",
     "output_type": "stream",
     "text": [
      "+--------+-----------------------+--------+--------+---------+-----------------+----------------+------+------+-------------+--------------+--------------------+-----------------------+-----------------------------+-------------------------+------------------+----------------+-------------+------------------+-------------+------------+--------------+------------+----------+\n",
      "|Customer|Customer Lifetime Value|Response|Coverage|Education|Effective To Date|EmploymentStatus|Gender|Income|Location Code|Marital Status|Monthly Premium Auto|Months Since Last Claim|Months Since Policy Inception|Number of Open Complaints|Number of Policies|Renew Offer Type|Sales Channel|Total Claim Amount|Vehicle Class|Vehicle Size|Policy Type   |Policy      |State     |\n",
      "+--------+-----------------------+--------+--------+---------+-----------------+----------------+------+------+-------------+--------------+--------------------+-----------------------+-----------------------------+-------------------------+------------------+----------------+-------------+------------------+-------------+------------+--------------+------------+----------+\n",
      "|BU79786 |2763.519279            |No      |Basic   |Bachelor |2/24/11          |Employed        |F     |56274 |Suburban     |Married       |69                  |32                     |5                            |0                        |1                 |Offer1          |Agent        |384.811147        |Two-Door Car |Medsize     |Corporate Auto|Corporate L3|Washington|\n",
      "|QZ44356 |6979.535903            |No      |Extended|Bachelor |1/31/11          |Unemployed      |F     |0     |Suburban     |Single        |94                  |13                     |42                           |0                        |8                 |Offer3          |Agent        |1131.464935       |Four-Door Car|Medsize     |Personal Auto |Personal L3 |Arizona   |\n",
      "|AI49188 |12887.43165            |No      |Premium |Bachelor |2/19/11          |Employed        |F     |48767 |Suburban     |Married       |108                 |18                     |38                           |0                        |2                 |Offer1          |Agent        |566.472247        |Two-Door Car |Medsize     |Personal Auto |Personal L3 |Nevada    |\n",
      "|WW63253 |7645.861827            |No      |Basic   |Bachelor |1/20/11          |Unemployed      |M     |0     |Suburban     |Married       |106                 |18                     |65                           |0                        |7                 |Offer1          |Call Center  |529.881344        |SUV          |Medsize     |Corporate Auto|Corporate L2|California|\n",
      "|HB64268 |2813.692575            |No      |Basic   |Bachelor |2/3/11           |Employed        |M     |43836 |Rural        |Single        |73                  |12                     |44                           |0                        |1                 |Offer1          |Agent        |138.130879        |Four-Door Car|Medsize     |Personal Auto |Personal L1 |Washington|\n",
      "+--------+-----------------------+--------+--------+---------+-----------------+----------------+------+------+-------------+--------------+--------------------+-----------------------+-----------------------------+-------------------------+------------------+----------------+-------------+------------------+-------------+------------+--------------+------------+----------+\n",
      "only showing top 5 rows\n",
      "\n"
     ]
    }
   ],
   "source": [
    "df.show(5, False)"
   ]
  }
 ],
 "metadata": {
  "kernelspec": {
   "display_name": "Python 3 (ipykernel)",
   "language": "python",
   "name": "python3"
  },
  "language_info": {
   "codemirror_mode": {
    "name": "ipython",
    "version": 3
   },
   "file_extension": ".py",
   "mimetype": "text/x-python",
   "name": "python",
   "nbconvert_exporter": "python",
   "pygments_lexer": "ipython3",
   "version": "3.11.6"
  }
 },
 "nbformat": 4,
 "nbformat_minor": 2
}
