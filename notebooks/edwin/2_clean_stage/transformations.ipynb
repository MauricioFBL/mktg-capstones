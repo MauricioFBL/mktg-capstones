{
 "cells": [
  {
   "cell_type": "code",
   "execution_count": null,
   "metadata": {},
   "outputs": [],
   "source": [
    "from datetime import date\n",
    "\n",
    "from pyspark.sql import SparkSession\n",
    "from pyspark.sql.functions import col, count, lit, round, to_date, when\n",
    "from pyspark.sql.window import Window\n",
    "\n",
    "spark = SparkSession.builder \\\n",
    "    .appName(\"edwin_app\") \\\n",
    "    .config(\"spark.some.config.option\", \"valor\") \\\n",
    "    .getOrCreate()"
   ]
  },
  {
   "cell_type": "code",
   "execution_count": 41,
   "metadata": {},
   "outputs": [
    {
     "name": "stdout",
     "output_type": "stream",
     "text": [
      "2025-05-27\n"
     ]
    }
   ],
   "source": [
    "# Fecha a consultar particion\n",
    "\n",
    "load_date = date.today()\n",
    "print(load_date)"
   ]
  },
  {
   "cell_type": "code",
   "execution_count": 42,
   "metadata": {},
   "outputs": [],
   "source": [
    "df = spark.read.parquet('./outputs/edwin/raw_stage/all_policies_table')"
   ]
  },
  {
   "cell_type": "code",
   "execution_count": 43,
   "metadata": {},
   "outputs": [],
   "source": [
    "# Filtrar unicamente clientes Empleados\n",
    "\n",
    "df_1 = df.filter((col('EmploymentStatus') == lit('Employed'))&\n",
    "                 (col('load_date') == lit(load_date))\n",
    "                 )"
   ]
  },
  {
   "cell_type": "code",
   "execution_count": 44,
   "metadata": {},
   "outputs": [
    {
     "data": {
      "text/plain": [
       "5698"
      ]
     },
     "execution_count": 44,
     "metadata": {},
     "output_type": "execute_result"
    }
   ],
   "source": [
    "df_1.count()"
   ]
  },
  {
   "cell_type": "code",
   "execution_count": 45,
   "metadata": {},
   "outputs": [],
   "source": [
    "# Casteo de columnas numericas\n",
    "\n",
    "df_1a = df_1.select('*',\n",
    "                   col('Income').cast('int').alias('income_by_year'),\n",
    "                   round(col('Customer Lifetime Value'), 2).alias('customer_lifetime_value').cast('float')\n",
    "                   ).drop('Income',\n",
    "                           'Customer Lifetime Value')"
   ]
  },
  {
   "cell_type": "code",
   "execution_count": 46,
   "metadata": {},
   "outputs": [],
   "source": [
    "# Crear columna ingreso por mes y renombrar Income por Income_by_year\n",
    "\n",
    "df_2 = df_1a.select('*',\n",
    "               round((col('income_by_year') / lit(12)), 2).alias('income_by_month')\n",
    "               ).drop(col('income_by_year'))"
   ]
  },
  {
   "cell_type": "code",
   "execution_count": 47,
   "metadata": {},
   "outputs": [],
   "source": [
    "# Calcular porcentaje del ingreso mensual destinado al pago de la poliza\n",
    "\n",
    "df_2a = df_2.select('*',\n",
    "                   round(((col('Monthly Premium Auto') / col('income_by_month'))) * 100, 2).alias('premium_income_ratio')\n",
    "                   )"
   ]
  },
  {
   "cell_type": "code",
   "execution_count": 48,
   "metadata": {},
   "outputs": [],
   "source": [
    "# Calcular la tasa de quejas de cada cliente por mes\n",
    "\n",
    "df_2b = df_2a.select('*',\n",
    "                     round(((col('Number of Open Complaints') / col('Months Since Policy Inception'))) * 100, 2).alias('complaint_rate')\n",
    "                     )"
   ]
  },
  {
   "cell_type": "code",
   "execution_count": 49,
   "metadata": {},
   "outputs": [
    {
     "name": "stdout",
     "output_type": "stream",
     "text": [
      "+--------+--------+--------+---------+-----------------+----------------+------+-------------+--------------+--------------------+-----------------------+-----------------------------+-------------------------+------------------+----------------+-------------+------------------+-------------+------------+--------------+------------+----------+----------+-----------------------+---------------+--------------------+--------------+\n",
      "|Customer|Response|Coverage|Education|Effective To Date|EmploymentStatus|Gender|Location Code|Marital Status|Monthly Premium Auto|Months Since Last Claim|Months Since Policy Inception|Number of Open Complaints|Number of Policies|Renew Offer Type|Sales Channel|Total Claim Amount|Vehicle Class|Vehicle Size|Policy Type   |Policy      |State     |load_date |customer_lifetime_value|income_by_month|premium_income_ratio|complaint_rate|\n",
      "+--------+--------+--------+---------+-----------------+----------------+------+-------------+--------------+--------------------+-----------------------+-----------------------------+-------------------------+------------------+----------------+-------------+------------------+-------------+------------+--------------+------------+----------+----------+-----------------------+---------------+--------------------+--------------+\n",
      "|BU79786 |No      |Basic   |Bachelor |2/24/11          |Employed        |F     |Suburban     |Married       |69                  |32                     |5                            |0                        |1                 |Offer1          |Agent        |384.811147        |Two-Door Car |Medsize     |Corporate Auto|Corporate L3|Washington|2025-05-27|2763.52                |4689.5         |1.47                |0.0           |\n",
      "|AI49188 |No      |Premium |Bachelor |2/19/11          |Employed        |F     |Suburban     |Married       |108                 |18                     |38                           |0                        |2                 |Offer1          |Agent        |566.472247        |Two-Door Car |Medsize     |Personal Auto |Personal L3 |Nevada    |2025-05-27|12887.43               |4063.92        |2.66                |0.0           |\n",
      "|HB64268 |No      |Basic   |Bachelor |2/3/11           |Employed        |M     |Rural        |Single        |73                  |12                     |44                           |0                        |1                 |Offer1          |Agent        |138.130879        |Four-Door Car|Medsize     |Personal Auto |Personal L1 |Washington|2025-05-27|2813.69                |3653.0         |2.0                 |0.0           |\n",
      "|OC83172 |Yes     |Basic   |Bachelor |1/25/11          |Employed        |F     |Rural        |Married       |69                  |14                     |94                           |0                        |2                 |Offer2          |Web          |159.383042        |Two-Door Car |Medsize     |Personal Auto |Personal L3 |Oregon    |2025-05-27|8256.3                 |5241.83        |1.32                |0.0           |\n",
      "|XZ87318 |Yes     |Basic   |College  |2/24/11          |Employed        |F     |Suburban     |Married       |67                  |0                      |13                           |0                        |9                 |Offer1          |Agent        |321.6             |Four-Door Car|Medsize     |Corporate Auto|Corporate L3|Oregon    |2025-05-27|5380.9                 |4612.5         |1.45                |0.0           |\n",
      "+--------+--------+--------+---------+-----------------+----------------+------+-------------+--------------+--------------------+-----------------------+-----------------------------+-------------------------+------------------+----------------+-------------+------------------+-------------+------------+--------------+------------+----------+----------+-----------------------+---------------+--------------------+--------------+\n",
      "only showing top 5 rows\n",
      "\n"
     ]
    }
   ],
   "source": [
    "df_2b.show(5, False)"
   ]
  },
  {
   "cell_type": "code",
   "execution_count": 50,
   "metadata": {},
   "outputs": [],
   "source": [
    "# Categorizar Customer Lifetime Value como Alto Medio y Bajo\n",
    "\n",
    "df_3 = df_2b.select('*',\n",
    "                   when(col('customer_lifetime_value') <= 4000, 'BAJO')\n",
    "                   .when((col('customer_lifetime_value') >= 4001) & (col('customer_lifetime_value') <=6000), 'MEDIO')\n",
    "                   .when(col('customer_lifetime_value') >= 6001, 'ALTO')\n",
    "                   .otherwise('DESCONOCIDO').alias('clv_categorical')\n",
    "                        )"
   ]
  },
  {
   "cell_type": "code",
   "execution_count": 51,
   "metadata": {},
   "outputs": [
    {
     "name": "stdout",
     "output_type": "stream",
     "text": [
      "+--------+--------+--------+---------+-----------------+----------------+------+-------------+--------------+--------------------+-----------------------+-----------------------------+-------------------------+------------------+----------------+-------------+------------------+-------------+------------+--------------+------------+----------+----------+-----------------------+---------------+--------------------+--------------+---------------+\n",
      "|Customer|Response|Coverage|Education|Effective To Date|EmploymentStatus|Gender|Location Code|Marital Status|Monthly Premium Auto|Months Since Last Claim|Months Since Policy Inception|Number of Open Complaints|Number of Policies|Renew Offer Type|Sales Channel|Total Claim Amount|Vehicle Class|Vehicle Size|Policy Type   |Policy      |State     |load_date |customer_lifetime_value|income_by_month|premium_income_ratio|complaint_rate|clv_categorical|\n",
      "+--------+--------+--------+---------+-----------------+----------------+------+-------------+--------------+--------------------+-----------------------+-----------------------------+-------------------------+------------------+----------------+-------------+------------------+-------------+------------+--------------+------------+----------+----------+-----------------------+---------------+--------------------+--------------+---------------+\n",
      "|BU79786 |No      |Basic   |Bachelor |2/24/11          |Employed        |F     |Suburban     |Married       |69                  |32                     |5                            |0                        |1                 |Offer1          |Agent        |384.811147        |Two-Door Car |Medsize     |Corporate Auto|Corporate L3|Washington|2025-05-27|2763.52                |4689.5         |1.47                |0.0           |BAJO           |\n",
      "|AI49188 |No      |Premium |Bachelor |2/19/11          |Employed        |F     |Suburban     |Married       |108                 |18                     |38                           |0                        |2                 |Offer1          |Agent        |566.472247        |Two-Door Car |Medsize     |Personal Auto |Personal L3 |Nevada    |2025-05-27|12887.43               |4063.92        |2.66                |0.0           |ALTO           |\n",
      "|HB64268 |No      |Basic   |Bachelor |2/3/11           |Employed        |M     |Rural        |Single        |73                  |12                     |44                           |0                        |1                 |Offer1          |Agent        |138.130879        |Four-Door Car|Medsize     |Personal Auto |Personal L1 |Washington|2025-05-27|2813.69                |3653.0         |2.0                 |0.0           |BAJO           |\n",
      "|OC83172 |Yes     |Basic   |Bachelor |1/25/11          |Employed        |F     |Rural        |Married       |69                  |14                     |94                           |0                        |2                 |Offer2          |Web          |159.383042        |Two-Door Car |Medsize     |Personal Auto |Personal L3 |Oregon    |2025-05-27|8256.3                 |5241.83        |1.32                |0.0           |ALTO           |\n",
      "|XZ87318 |Yes     |Basic   |College  |2/24/11          |Employed        |F     |Suburban     |Married       |67                  |0                      |13                           |0                        |9                 |Offer1          |Agent        |321.6             |Four-Door Car|Medsize     |Corporate Auto|Corporate L3|Oregon    |2025-05-27|5380.9                 |4612.5         |1.45                |0.0           |MEDIO          |\n",
      "+--------+--------+--------+---------+-----------------+----------------+------+-------------+--------------+--------------------+-----------------------+-----------------------------+-------------------------+------------------+----------------+-------------+------------------+-------------+------------+--------------+------------+----------+----------+-----------------------+---------------+--------------------+--------------+---------------+\n",
      "only showing top 5 rows\n",
      "\n"
     ]
    }
   ],
   "source": [
    "df_3.show(5, False)"
   ]
  },
  {
   "cell_type": "code",
   "execution_count": 52,
   "metadata": {},
   "outputs": [],
   "source": [
    "# Porcentaje que corresponde a cada categoria clv_categorial\n",
    "\n",
    "w = Window.partitionBy(col('clv_categorical'))\n",
    "total = df_3.count()\n",
    "\n",
    "df_4 = df_3.select('*',\n",
    "            count(col('clv_categorical')).over(w).alias('clv_cat_count'),\n",
    "            )\n",
    "\n",
    "df_4 = df_4.select('*',\n",
    "                   round(((col('clv_cat_count') / lit(total))* 100), 1).alias('clv_categorical_percent')\n",
    "                   ).drop('clv_cat_count')"
   ]
  },
  {
   "cell_type": "code",
   "execution_count": 53,
   "metadata": {},
   "outputs": [],
   "source": [
    "df_5 = df_4.select('*',\n",
    "                   lit(load_date).alias('load_date')\n",
    "                   )"
   ]
  },
  {
   "cell_type": "code",
   "execution_count": 55,
   "metadata": {},
   "outputs": [
    {
     "name": "stdout",
     "output_type": "stream",
     "text": [
      "+--------+--------+--------+--------------------+-----------------+----------------+------+-------------+--------------+--------------------+-----------------------+-----------------------------+-------------------------+------------------+----------------+-------------+------------------+-------------+------------+--------------+------------+----------+----------+-----------------------+---------------+--------------------+--------------+---------------+-----------------------+----------+\n",
      "|Customer|Response|Coverage|Education           |Effective To Date|EmploymentStatus|Gender|Location Code|Marital Status|Monthly Premium Auto|Months Since Last Claim|Months Since Policy Inception|Number of Open Complaints|Number of Policies|Renew Offer Type|Sales Channel|Total Claim Amount|Vehicle Class|Vehicle Size|Policy Type   |Policy      |State     |load_date |customer_lifetime_value|income_by_month|premium_income_ratio|complaint_rate|clv_categorical|clv_categorical_percent|load_date |\n",
      "+--------+--------+--------+--------------------+-----------------+----------------+------+-------------+--------------+--------------------+-----------------------+-----------------------------+-------------------------+------------------+----------------+-------------+------------------+-------------+------------+--------------+------------+----------+----------+-----------------------+---------------+--------------------+--------------+---------------+-----------------------+----------+\n",
      "|AI49188 |No      |Premium |Bachelor            |2/19/11          |Employed        |F     |Suburban     |Married       |108                 |18                     |38                           |0                        |2                 |Offer1          |Agent        |566.472247        |Two-Door Car |Medsize     |Personal Auto |Personal L3 |Nevada    |2025-05-27|12887.43               |4063.92        |2.66                |0.0           |ALTO           |48.4                   |2025-05-27|\n",
      "|OC83172 |Yes     |Basic   |Bachelor            |1/25/11          |Employed        |F     |Rural        |Married       |69                  |14                     |94                           |0                        |2                 |Offer2          |Web          |159.383042        |Two-Door Car |Medsize     |Personal Auto |Personal L3 |Oregon    |2025-05-27|8256.3                 |5241.83        |1.32                |0.0           |ALTO           |48.4                   |2025-05-27|\n",
      "|BQ94931 |No      |Extended|College             |2/17/11          |Employed        |F     |Urban        |Married       |93                  |17                     |7                            |0                        |8                 |Offer2          |Branch       |425.527834        |Four-Door Car|Medsize     |Special Auto  |Special L2  |Oregon    |2025-05-27|7388.18                |2401.0         |3.87                |0.0           |ALTO           |48.4                   |2025-05-27|\n",
      "|DP39365 |No      |Premium |Master              |2/6/11           |Employed        |M     |Urban        |Married       |110                 |9                      |82                           |2                        |3                 |Offer2          |Agent        |472.029737        |Four-Door Car|Medsize     |Corporate Auto|Corporate L1|California|2025-05-27|8798.8                 |6418.83        |1.71                |2.44          |ALTO           |48.4                   |2025-05-27|\n",
      "|SJ95423 |Yes     |Basic   |High School or Below|1/10/11          |Employed        |M     |Suburban     |Married       |110                 |23                     |25                           |1                        |8                 |Offer2          |Branch       |528.0             |SUV          |Medsize     |Corporate Auto|Corporate L3|Arizona   |2025-05-27|8819.02                |8320.42        |1.32                |4.0           |ALTO           |48.4                   |2025-05-27|\n",
      "|BW63560 |No      |Basic   |Bachelor            |1/17/11          |Employed        |F     |Rural        |Married       |64                  |12                     |50                           |1                        |2                 |Offer2          |Branch       |42.920271         |Four-Door Car|Medsize     |Corporate Auto|Corporate L2|Oregon    |2025-05-27|7463.14                |2049.92        |3.12                |2.0           |ALTO           |48.4                   |2025-05-27|\n",
      "|FL50705 |No      |Premium |High School or Below|1/14/11          |Employed        |F     |Suburban     |Married       |101                 |11                     |21                           |0                        |3                 |Offer1          |Call Center  |484.8             |Four-Door Car|Small       |Corporate Auto|Corporate L2|California|2025-05-27|8162.62                |5511.67        |1.83                |0.0           |ALTO           |48.4                   |2025-05-27|\n",
      "|GE62437 |No      |Premium |College             |2/2/11           |Employed        |F     |Suburban     |Single        |111                 |33                     |54                           |2                        |2                 |Offer1          |Call Center  |532.8             |Four-Door Car|Large       |Personal Auto |Personal L3 |Arizona   |2025-05-27|12902.56               |7215.33        |1.54                |3.7           |ALTO           |48.4                   |2025-05-27|\n",
      "|UL64533 |No      |Extended|High School or Below|1/22/11          |Employed        |M     |Urban        |Married       |237                 |1                      |14                           |0                        |6                 |Offer2          |Agent        |615.927769        |Luxury SUV   |Medsize     |Corporate Auto|Corporate L2|Nevada    |2025-05-27|18975.46               |5499.92        |4.31                |0.0           |ALTO           |48.4                   |2025-05-27|\n",
      "|KY38074 |No      |Premium |Bachelor            |1/8/11           |Employed        |M     |Suburban     |Married       |117                 |10                     |62                           |0                        |2                 |Offer1          |Agent        |561.6             |Four-Door Car|Small       |Personal Auto |Personal L3 |California|2025-05-27|13891.74               |3525.42        |3.32                |0.0           |ALTO           |48.4                   |2025-05-27|\n",
      "+--------+--------+--------+--------------------+-----------------+----------------+------+-------------+--------------+--------------------+-----------------------+-----------------------------+-------------------------+------------------+----------------+-------------+------------------+-------------+------------+--------------+------------+----------+----------+-----------------------+---------------+--------------------+--------------+---------------+-----------------------+----------+\n",
      "only showing top 10 rows\n",
      "\n",
      "None\n",
      "5698\n"
     ]
    }
   ],
   "source": [
    "print(df_5.show(10, False))\n",
    "print(df_5.count())\n"
   ]
  },
  {
   "cell_type": "code",
   "execution_count": 60,
   "metadata": {},
   "outputs": [],
   "source": [
    "df_6 = df_5.withColumn(\"Effective To Date\", to_date(\"Effective To Date\", \"M/d/yy\"))"
   ]
  },
  {
   "cell_type": "code",
   "execution_count": 61,
   "metadata": {},
   "outputs": [
    {
     "name": "stdout",
     "output_type": "stream",
     "text": [
      "root\n",
      " |-- Customer: string (nullable = true)\n",
      " |-- Response: string (nullable = true)\n",
      " |-- Coverage: string (nullable = true)\n",
      " |-- Education: string (nullable = true)\n",
      " |-- Effective To Date: date (nullable = true)\n",
      " |-- EmploymentStatus: string (nullable = true)\n",
      " |-- Gender: string (nullable = true)\n",
      " |-- Location Code: string (nullable = true)\n",
      " |-- Marital Status: string (nullable = true)\n",
      " |-- Monthly Premium Auto: string (nullable = true)\n",
      " |-- Months Since Last Claim: string (nullable = true)\n",
      " |-- Months Since Policy Inception: string (nullable = true)\n",
      " |-- Number of Open Complaints: string (nullable = true)\n",
      " |-- Number of Policies: string (nullable = true)\n",
      " |-- Renew Offer Type: string (nullable = true)\n",
      " |-- Sales Channel: string (nullable = true)\n",
      " |-- Total Claim Amount: string (nullable = true)\n",
      " |-- Vehicle Class: string (nullable = true)\n",
      " |-- Vehicle Size: string (nullable = true)\n",
      " |-- Policy Type: string (nullable = true)\n",
      " |-- Policy: string (nullable = true)\n",
      " |-- State: string (nullable = true)\n",
      " |-- load_date: date (nullable = true)\n",
      " |-- customer_lifetime_value: float (nullable = true)\n",
      " |-- income_by_month: double (nullable = true)\n",
      " |-- premium_income_ratio: double (nullable = true)\n",
      " |-- complaint_rate: double (nullable = true)\n",
      " |-- clv_categorical: string (nullable = false)\n",
      " |-- clv_categorical_percent: double (nullable = true)\n",
      " |-- load_date: date (nullable = false)\n",
      "\n"
     ]
    }
   ],
   "source": [
    "df_6.printSchema()"
   ]
  },
  {
   "cell_type": "code",
   "execution_count": null,
   "metadata": {},
   "outputs": [],
   "source": []
  }
 ],
 "metadata": {
  "kernelspec": {
   "display_name": "Python 3 (ipykernel)",
   "language": "python",
   "name": "python3"
  },
  "language_info": {
   "codemirror_mode": {
    "name": "ipython",
    "version": 3
   },
   "file_extension": ".py",
   "mimetype": "text/x-python",
   "name": "python",
   "nbconvert_exporter": "python",
   "pygments_lexer": "ipython3",
   "version": "3.11.6"
  }
 },
 "nbformat": 4,
 "nbformat_minor": 2
}
