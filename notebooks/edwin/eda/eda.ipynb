{
 "cells": [
  {
   "cell_type": "code",
   "execution_count": 11,
   "id": "80fcccfc",
   "metadata": {},
   "outputs": [],
   "source": [
    "from pyspark.sql import SparkSession\n",
    "import pyspark.sql.functions as f\n",
    "\n",
    "spark = SparkSession.builder \\\n",
    "    .appName(\"edwin_app\") \\\n",
    "    .config(\"spark.some.config.option\", \"valor\") \\\n",
    "    .getOrCreate()"
   ]
  },
  {
   "cell_type": "code",
   "execution_count": 7,
   "id": "1b49d257",
   "metadata": {},
   "outputs": [],
   "source": [
    "df = spark.read.option('header', True).csv('./outputs/edwin/raw_stage/all_policies_table')"
   ]
  },
  {
   "cell_type": "markdown",
   "id": "559cf787",
   "metadata": {},
   "source": [
    "ASPECTOS GENERALES DEL DATASET"
   ]
  },
  {
   "cell_type": "code",
   "execution_count": 18,
   "id": "5af1c1c5",
   "metadata": {},
   "outputs": [
    {
     "name": "stdout",
     "output_type": "stream",
     "text": [
      "+--------+-----------------------+--------+--------+---------+-----------------+----------------+------+------+-------------+--------------+--------------------+-----------------------+-----------------------------+-------------------------+------------------+----------------+-------------+------------------+-------------+------------+--------------+------------+----------+\n",
      "|Customer|Customer Lifetime Value|Response|Coverage|Education|Effective To Date|EmploymentStatus|Gender|Income|Location Code|Marital Status|Monthly Premium Auto|Months Since Last Claim|Months Since Policy Inception|Number of Open Complaints|Number of Policies|Renew Offer Type|Sales Channel|Total Claim Amount|Vehicle Class|Vehicle Size|Policy Type   |Policy      |State     |\n",
      "+--------+-----------------------+--------+--------+---------+-----------------+----------------+------+------+-------------+--------------+--------------------+-----------------------+-----------------------------+-------------------------+------------------+----------------+-------------+------------------+-------------+------------+--------------+------------+----------+\n",
      "|BU79786 |2763.519279            |No      |Basic   |Bachelor |2/24/11          |Employed        |F     |56274 |Suburban     |Married       |69                  |32                     |5                            |0                        |1                 |Offer1          |Agent        |384.811147        |Two-Door Car |Medsize     |Corporate Auto|Corporate L3|Washington|\n",
      "|QZ44356 |6979.535903            |No      |Extended|Bachelor |1/31/11          |Unemployed      |F     |0     |Suburban     |Single        |94                  |13                     |42                           |0                        |8                 |Offer3          |Agent        |1131.464935       |Four-Door Car|Medsize     |Personal Auto |Personal L3 |Arizona   |\n",
      "|AI49188 |12887.43165            |No      |Premium |Bachelor |2/19/11          |Employed        |F     |48767 |Suburban     |Married       |108                 |18                     |38                           |0                        |2                 |Offer1          |Agent        |566.472247        |Two-Door Car |Medsize     |Personal Auto |Personal L3 |Nevada    |\n",
      "|WW63253 |7645.861827            |No      |Basic   |Bachelor |1/20/11          |Unemployed      |M     |0     |Suburban     |Married       |106                 |18                     |65                           |0                        |7                 |Offer1          |Call Center  |529.881344        |SUV          |Medsize     |Corporate Auto|Corporate L2|California|\n",
      "|HB64268 |2813.692575            |No      |Basic   |Bachelor |2/3/11           |Employed        |M     |43836 |Rural        |Single        |73                  |12                     |44                           |0                        |1                 |Offer1          |Agent        |138.130879        |Four-Door Car|Medsize     |Personal Auto |Personal L1 |Washington|\n",
      "+--------+-----------------------+--------+--------+---------+-----------------+----------------+------+------+-------------+--------------+--------------------+-----------------------+-----------------------------+-------------------------+------------------+----------------+-------------+------------------+-------------+------------+--------------+------------+----------+\n",
      "only showing top 5 rows\n",
      "\n"
     ]
    }
   ],
   "source": [
    "# Muestra de 5 primeros registros\n",
    "df.show(5, False)"
   ]
  },
  {
   "cell_type": "code",
   "execution_count": 10,
   "id": "50d21280",
   "metadata": {},
   "outputs": [
    {
     "name": "stdout",
     "output_type": "stream",
     "text": [
      "root\n",
      " |-- Customer: string (nullable = true)\n",
      " |-- Customer Lifetime Value: string (nullable = true)\n",
      " |-- Response: string (nullable = true)\n",
      " |-- Coverage: string (nullable = true)\n",
      " |-- Education: string (nullable = true)\n",
      " |-- Effective To Date: string (nullable = true)\n",
      " |-- EmploymentStatus: string (nullable = true)\n",
      " |-- Gender: string (nullable = true)\n",
      " |-- Income: string (nullable = true)\n",
      " |-- Location Code: string (nullable = true)\n",
      " |-- Marital Status: string (nullable = true)\n",
      " |-- Monthly Premium Auto: string (nullable = true)\n",
      " |-- Months Since Last Claim: string (nullable = true)\n",
      " |-- Months Since Policy Inception: string (nullable = true)\n",
      " |-- Number of Open Complaints: string (nullable = true)\n",
      " |-- Number of Policies: string (nullable = true)\n",
      " |-- Renew Offer Type: string (nullable = true)\n",
      " |-- Sales Channel: string (nullable = true)\n",
      " |-- Total Claim Amount: string (nullable = true)\n",
      " |-- Vehicle Class: string (nullable = true)\n",
      " |-- Vehicle Size: string (nullable = true)\n",
      " |-- Policy Type: string (nullable = true)\n",
      " |-- Policy: string (nullable = true)\n",
      " |-- State: string (nullable = true)\n",
      "\n"
     ]
    }
   ],
   "source": [
    "# Informacion sobre el tipo de dato en cada columna \n",
    "\n",
    "df.printSchema()"
   ]
  },
  {
   "cell_type": "code",
   "execution_count": 17,
   "id": "068372da",
   "metadata": {},
   "outputs": [
    {
     "name": "stdout",
     "output_type": "stream",
     "text": [
      "NULLS VALUES IN COLUMN \"Customer\": 0\n",
      "NULLS VALUES IN COLUMN \"Customer Lifetime Value\": 0\n",
      "NULLS VALUES IN COLUMN \"Response\": 0\n",
      "NULLS VALUES IN COLUMN \"Coverage\": 0\n",
      "NULLS VALUES IN COLUMN \"Education\": 0\n",
      "NULLS VALUES IN COLUMN \"Effective To Date\": 0\n",
      "NULLS VALUES IN COLUMN \"EmploymentStatus\": 0\n",
      "NULLS VALUES IN COLUMN \"Gender\": 0\n",
      "NULLS VALUES IN COLUMN \"Income\": 0\n",
      "NULLS VALUES IN COLUMN \"Location Code\": 0\n",
      "NULLS VALUES IN COLUMN \"Marital Status\": 0\n",
      "NULLS VALUES IN COLUMN \"Monthly Premium Auto\": 0\n",
      "NULLS VALUES IN COLUMN \"Months Since Last Claim\": 0\n",
      "NULLS VALUES IN COLUMN \"Months Since Policy Inception\": 0\n",
      "NULLS VALUES IN COLUMN \"Number of Open Complaints\": 0\n",
      "NULLS VALUES IN COLUMN \"Number of Policies\": 0\n",
      "NULLS VALUES IN COLUMN \"Renew Offer Type\": 0\n",
      "NULLS VALUES IN COLUMN \"Sales Channel\": 0\n",
      "NULLS VALUES IN COLUMN \"Total Claim Amount\": 0\n",
      "NULLS VALUES IN COLUMN \"Vehicle Class\": 0\n",
      "NULLS VALUES IN COLUMN \"Vehicle Size\": 0\n",
      "NULLS VALUES IN COLUMN \"Policy Type\": 0\n",
      "NULLS VALUES IN COLUMN \"Policy\": 0\n",
      "NULLS VALUES IN COLUMN \"State\": 0\n"
     ]
    }
   ],
   "source": [
    "# Conteo en busqueda de valores nulos\n",
    "\n",
    "for column in df.columns:\n",
    "\n",
    "    cont = df.filter(f.col(column).isNull()).count()\n",
    "    print(f'NULLS VALUES IN COLUMN \"{column}\": {cont}')"
   ]
  },
  {
   "cell_type": "code",
   "execution_count": 26,
   "id": "8dbff93c",
   "metadata": {},
   "outputs": [
    {
     "name": "stdout",
     "output_type": "stream",
     "text": [
      "+-------+--------+-----------------------+--------+--------+---------+-----------------+----------------+------+------------------+-------------+--------------+--------------------+-----------------------+-----------------------------+-------------------------+------------------+----------------+-------------+------------------+-------------+------------+--------------+------------+----------+\n",
      "|summary|Customer|Customer Lifetime Value|Response|Coverage|Education|Effective To Date|EmploymentStatus|Gender|            Income|Location Code|Marital Status|Monthly Premium Auto|Months Since Last Claim|Months Since Policy Inception|Number of Open Complaints|Number of Policies|Renew Offer Type|Sales Channel|Total Claim Amount|Vehicle Class|Vehicle Size|   Policy Type|      Policy|     State|\n",
      "+-------+--------+-----------------------+--------+--------+---------+-----------------+----------------+------+------------------+-------------+--------------+--------------------+-----------------------+-----------------------------+-------------------------+------------------+----------------+-------------+------------------+-------------+------------+--------------+------------+----------+\n",
      "|  count|    9134|                   9134|    9134|    9134|     9134|             9134|            9134|  9134|              9134|         9134|          9134|                9134|                   9134|                         9134|                     9134|              9134|            9134|         9134|              9134|         9134|        9134|          9134|        9134|      9134|\n",
      "|   mean|    NULL|     8004.9404749870755|    NULL|    NULL|     NULL|             NULL|            NULL|  NULL| 37657.38000875848|         NULL|          NULL|   93.21929056273265|     15.097000218962119|           48.064593825268226|      0.38438800087584846|2.9661703525290126|            NULL|         NULL| 434.0887943128942|         NULL|        NULL|          NULL|        NULL|      NULL|\n",
      "| stddev|    NULL|      6870.967608356933|    NULL|    NULL|     NULL|             NULL|            NULL|  NULL|30379.904733846317|         NULL|          NULL|  34.407967371786505|     10.073256571394245|           27.905990784265157|       0.9103835316135651|2.3901818097011316|            NULL|         NULL|  290.500091803114|         NULL|        NULL|          NULL|        NULL|      NULL|\n",
      "|    min| AA10041|            10003.24729|      No|   Basic| Bachelor|           1/1/11|        Disabled|     F|                 0|        Rural|      Divorced|                 100|                      0|                            0|                        0|                 1|          Offer1|        Agent|          0.099007|Four-Door Car|       Large|Corporate Auto|Corporate L1|   Arizona|\n",
      "|    25%|    NULL|            3992.583886|    NULL|    NULL|     NULL|             NULL|            NULL|  NULL|               0.0|         NULL|          NULL|                68.0|                    6.0|                         24.0|                      0.0|               1.0|            NULL|         NULL|        272.195232|         NULL|        NULL|          NULL|        NULL|      NULL|\n",
      "|    50%|    NULL|            5780.182197|    NULL|    NULL|     NULL|             NULL|            NULL|  NULL|           33881.0|         NULL|          NULL|                83.0|                   14.0|                         48.0|                      0.0|               2.0|            NULL|         NULL|        383.797363|         NULL|        NULL|          NULL|        NULL|      NULL|\n",
      "|    75%|    NULL|            8960.280213|    NULL|    NULL|     NULL|             NULL|            NULL|  NULL|           62302.0|         NULL|          NULL|               109.0|                   23.0|                         71.0|                      0.0|               4.0|            NULL|         NULL|             547.2|         NULL|        NULL|          NULL|        NULL|      NULL|\n",
      "|    max| ZZ97035|            9988.787618|     Yes| Premium|   Master|           2/9/11|      Unemployed|     M|             99981|        Urban|        Single|                  99|                      9|                           99|                        5|                 9|          Offer4|          Web|             998.4| Two-Door Car|       Small|  Special Auto|  Special L3|Washington|\n",
      "+-------+--------+-----------------------+--------+--------+---------+-----------------+----------------+------+------------------+-------------+--------------+--------------------+-----------------------+-----------------------------+-------------------------+------------------+----------------+-------------+------------------+-------------+------------+--------------+------------+----------+\n",
      "\n"
     ]
    }
   ],
   "source": [
    "# Estadisticas basicas del dataset\n",
    "\n",
    "df.summary().show()"
   ]
  },
  {
   "cell_type": "code",
   "execution_count": 29,
   "id": "5fed9e41",
   "metadata": {},
   "outputs": [
    {
     "name": "stdout",
     "output_type": "stream",
     "text": [
      "TOP 5 EN CATEGORIA: \"Response\"\n",
      "+--------+-----+\n",
      "|Response|count|\n",
      "+--------+-----+\n",
      "|No      |7826 |\n",
      "|Yes     |1308 |\n",
      "+--------+-----+\n",
      "\n",
      "TOP 5 EN CATEGORIA: \"Coverage\"\n",
      "+--------+-----+\n",
      "|Coverage|count|\n",
      "+--------+-----+\n",
      "|Basic   |5568 |\n",
      "|Extended|2742 |\n",
      "|Premium |824  |\n",
      "+--------+-----+\n",
      "\n",
      "TOP 5 EN CATEGORIA: \"Education\"\n",
      "+--------------------+-----+\n",
      "|Education           |count|\n",
      "+--------------------+-----+\n",
      "|Bachelor            |2748 |\n",
      "|College             |2681 |\n",
      "|High School or Below|2622 |\n",
      "|Master              |741  |\n",
      "|Doctor              |342  |\n",
      "+--------------------+-----+\n",
      "\n",
      "TOP 5 EN CATEGORIA: \"EmploymentStatus\"\n",
      "+----------------+-----+\n",
      "|EmploymentStatus|count|\n",
      "+----------------+-----+\n",
      "|Employed        |5698 |\n",
      "|Unemployed      |2317 |\n",
      "|Medical Leave   |432  |\n",
      "|Disabled        |405  |\n",
      "|Retired         |282  |\n",
      "+----------------+-----+\n",
      "\n",
      "TOP 5 EN CATEGORIA: \"Gender\"\n",
      "+------+-----+\n",
      "|Gender|count|\n",
      "+------+-----+\n",
      "|F     |4658 |\n",
      "|M     |4476 |\n",
      "+------+-----+\n",
      "\n",
      "TOP 5 EN CATEGORIA: \"Location Code\"\n",
      "+-------------+-----+\n",
      "|Location Code|count|\n",
      "+-------------+-----+\n",
      "|Suburban     |5779 |\n",
      "|Rural        |1773 |\n",
      "|Urban        |1582 |\n",
      "+-------------+-----+\n",
      "\n",
      "TOP 5 EN CATEGORIA: \"Marital Status\"\n",
      "+--------------+-----+\n",
      "|Marital Status|count|\n",
      "+--------------+-----+\n",
      "|Married       |5298 |\n",
      "|Single        |2467 |\n",
      "|Divorced      |1369 |\n",
      "+--------------+-----+\n",
      "\n",
      "TOP 5 EN CATEGORIA: \"Renew Offer Type\"\n",
      "+----------------+-----+\n",
      "|Renew Offer Type|count|\n",
      "+----------------+-----+\n",
      "|Offer1          |3752 |\n",
      "|Offer2          |2926 |\n",
      "|Offer3          |1432 |\n",
      "|Offer4          |1024 |\n",
      "+----------------+-----+\n",
      "\n",
      "TOP 5 EN CATEGORIA: \"Sales Channel\"\n",
      "+-------------+-----+\n",
      "|Sales Channel|count|\n",
      "+-------------+-----+\n",
      "|Agent        |3477 |\n",
      "|Branch       |2567 |\n",
      "|Call Center  |1765 |\n",
      "|Web          |1325 |\n",
      "+-------------+-----+\n",
      "\n",
      "TOP 5 EN CATEGORIA: \"Vehicle Class\"\n",
      "+-------------+-----+\n",
      "|Vehicle Class|count|\n",
      "+-------------+-----+\n",
      "|Four-Door Car|4621 |\n",
      "|Two-Door Car |1886 |\n",
      "|SUV          |1796 |\n",
      "|Sports Car   |484  |\n",
      "|Luxury SUV   |184  |\n",
      "+-------------+-----+\n",
      "only showing top 5 rows\n",
      "\n",
      "TOP 5 EN CATEGORIA: \"Vehicle Size\"\n",
      "+------------+-----+\n",
      "|Vehicle Size|count|\n",
      "+------------+-----+\n",
      "|Medsize     |6424 |\n",
      "|Small       |1764 |\n",
      "|Large       |946  |\n",
      "+------------+-----+\n",
      "\n",
      "TOP 5 EN CATEGORIA: \"Policy Type\"\n",
      "+--------------+-----+\n",
      "|Policy Type   |count|\n",
      "+--------------+-----+\n",
      "|Personal Auto |6788 |\n",
      "|Corporate Auto|1968 |\n",
      "|Special Auto  |378  |\n",
      "+--------------+-----+\n",
      "\n",
      "TOP 5 EN CATEGORIA: \"Policy\"\n",
      "+------------+-----+\n",
      "|Policy      |count|\n",
      "+------------+-----+\n",
      "|Personal L3 |3426 |\n",
      "|Personal L2 |2122 |\n",
      "|Personal L1 |1240 |\n",
      "|Corporate L3|1014 |\n",
      "|Corporate L2|595  |\n",
      "+------------+-----+\n",
      "only showing top 5 rows\n",
      "\n",
      "TOP 5 EN CATEGORIA: \"State\"\n",
      "+----------+-----+\n",
      "|State     |count|\n",
      "+----------+-----+\n",
      "|California|3150 |\n",
      "|Oregon    |2601 |\n",
      "|Arizona   |1703 |\n",
      "|Nevada    |882  |\n",
      "|Washington|798  |\n",
      "+----------+-----+\n",
      "\n"
     ]
    }
   ],
   "source": [
    "col_categoricas = ['Response', 'Coverage', 'Education', 'EmploymentStatus', 'Gender', 'Location Code', \n",
    "                   'Marital Status', 'Renew Offer Type', 'Sales Channel', 'Vehicle Class', 'Vehicle Size',\n",
    "                   'Policy Type', 'Policy', 'State']\n",
    "\n",
    "for column in col_categoricas:\n",
    "    print(f'TOP 5 EN CATEGORIA: \"{column}\"')\n",
    "    df.groupBy(f.col(column)).count().orderBy(f.col('count').desc()).show(5, False) "
   ]
  },
  {
   "cell_type": "code",
   "execution_count": null,
   "id": "53530002",
   "metadata": {},
   "outputs": [],
   "source": []
  },
  {
   "cell_type": "code",
   "execution_count": null,
   "id": "949208f3",
   "metadata": {},
   "outputs": [],
   "source": []
  }
 ],
 "metadata": {
  "kernelspec": {
   "display_name": "Python 3 (ipykernel)",
   "language": "python",
   "name": "python3"
  },
  "language_info": {
   "codemirror_mode": {
    "name": "ipython",
    "version": 3
   },
   "file_extension": ".py",
   "mimetype": "text/x-python",
   "name": "python",
   "nbconvert_exporter": "python",
   "pygments_lexer": "ipython3",
   "version": "3.11.6"
  }
 },
 "nbformat": 4,
 "nbformat_minor": 5
}
