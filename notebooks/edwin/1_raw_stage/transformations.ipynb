{
 "cells": [
  {
   "cell_type": "code",
   "execution_count": 42,
   "metadata": {},
   "outputs": [],
   "source": [
    "from pyspark.sql import DataFrame, SparkSession\n",
    "\n",
    "spark = SparkSession.builder \\\n",
    "    .appName(\"edwin_app\") \\\n",
    "    .config(\"spark.some.config.option\", \"valor\") \\\n",
    "    .getOrCreate()"
   ]
  },
  {
   "cell_type": "code",
   "execution_count": 49,
   "metadata": {},
   "outputs": [],
   "source": [
    "\n",
    "def read_data(path: str) -> DataFrame:\n",
    "    \"\"\"Function to read data from multiples tables\n",
    "    \"\"\"\n",
    "    df = (spark.read\n",
    "          .option('header', True)\n",
    "          .option('delimiter', ',')\n",
    "          .csv(path)\n",
    "          )\n",
    "\n",
    "    return df\n",
    "\n",
    "\n",
    "def merging_all_tables(df1: DataFrame,\n",
    "                       df2: DataFrame,\n",
    "                       df3: DataFrame,\n",
    "                       df4: DataFrame) -> DataFrame:\n",
    "    \"\"\"Function to join 4 tables to consolid all information into a big table\n",
    "    \"\"\"\n",
    "    df = df1.join(df2,\n",
    "                  on='policy_type_id',\n",
    "                  how='left'\n",
    "                  ).join(df3,\n",
    "                         on='policy_lvl_id',\n",
    "                         how='left'\n",
    "                         ).join(df4,\n",
    "                                on='state_id',\n",
    "                                how='left'\n",
    "                                )\n",
    "\n",
    "    return df\n",
    "\n",
    "\n",
    "def drop_unnecessary_columns(df: DataFrame) -> DataFrame:\n",
    "    \"\"\"Function to drop columns that are not necessary in raw stage\n",
    "    \"\"\"\n",
    "    df = df.drop('policy_type_id',\n",
    "                 'policy_lvl_id',\n",
    "                 'state_id')\n",
    "\n",
    "    return df\n",
    "\n",
    "\n",
    "\n",
    "def save_raw_data(df: DataFrame,\n",
    "                  path: str) -> None:\n",
    "    \"\"\"Function to send data proccesed to raw stage\n",
    "    \"\"\"\n",
    "    df.coalesce(1).write.option('header', True).mode('overwrite').csv(path)"
   ]
  },
  {
   "cell_type": "markdown",
   "metadata": {},
   "source": [
    "FUNCTIONS ORCHESTRATION"
   ]
  },
  {
   "cell_type": "code",
   "execution_count": 44,
   "metadata": {},
   "outputs": [],
   "source": [
    "basepath = './data/edwin/tables'\n",
    "\n",
    "transactions_df = read_data(f'{basepath}/transactions.csv')\n",
    "policies_levels_df = read_data(f'{basepath}/policies_levels.csv')\n",
    "policies_types_df = read_data(f'{basepath}/policies_types.csv')\n",
    "states_df = read_data(f'{basepath}/states.csv')"
   ]
  },
  {
   "cell_type": "code",
   "execution_count": 45,
   "metadata": {},
   "outputs": [],
   "source": [
    "all_tables_df = merging_all_tables(df1=transactions_df,\n",
    "                              df2=policies_types_df,\n",
    "                              df3=policies_levels_df,\n",
    "                              df4=states_df)"
   ]
  },
  {
   "cell_type": "code",
   "execution_count": 46,
   "metadata": {},
   "outputs": [],
   "source": [
    "final_df = drop_unnecessary_columns(all_tables_df)"
   ]
  },
  {
   "cell_type": "code",
   "execution_count": 52,
   "metadata": {},
   "outputs": [],
   "source": [
    "raw_stage_path = './outputs/edwin/raw_stage/all_policies_table'\n",
    "\n",
    "save_raw_data(final_df,\n",
    "              raw_stage_path)"
   ]
  },
  {
   "cell_type": "code",
   "execution_count": 51,
   "metadata": {},
   "outputs": [
    {
     "name": "stdout",
     "output_type": "stream",
     "text": [
      "+--------+-----------------------+--------+--------+---------+-----------------+----------------+------+------+-------------+--------------+--------------------+-----------------------+-----------------------------+-------------------------+------------------+----------------+-------------+------------------+-------------+------------+--------------+------------+----------+\n",
      "|Customer|Customer Lifetime Value|Response|Coverage|Education|Effective To Date|EmploymentStatus|Gender|Income|Location Code|Marital Status|Monthly Premium Auto|Months Since Last Claim|Months Since Policy Inception|Number of Open Complaints|Number of Policies|Renew Offer Type|Sales Channel|Total Claim Amount|Vehicle Class|Vehicle Size|Policy Type   |Policy      |State     |\n",
      "+--------+-----------------------+--------+--------+---------+-----------------+----------------+------+------+-------------+--------------+--------------------+-----------------------+-----------------------------+-------------------------+------------------+----------------+-------------+------------------+-------------+------------+--------------+------------+----------+\n",
      "|BU79786 |2763.519279            |No      |Basic   |Bachelor |2/24/11          |Employed        |F     |56274 |Suburban     |Married       |69                  |32                     |5                            |0                        |1                 |Offer1          |Agent        |384.811147        |Two-Door Car |Medsize     |Corporate Auto|Corporate L3|Washington|\n",
      "|QZ44356 |6979.535903            |No      |Extended|Bachelor |1/31/11          |Unemployed      |F     |0     |Suburban     |Single        |94                  |13                     |42                           |0                        |8                 |Offer3          |Agent        |1131.464935       |Four-Door Car|Medsize     |Personal Auto |Personal L3 |Arizona   |\n",
      "|AI49188 |12887.43165            |No      |Premium |Bachelor |2/19/11          |Employed        |F     |48767 |Suburban     |Married       |108                 |18                     |38                           |0                        |2                 |Offer1          |Agent        |566.472247        |Two-Door Car |Medsize     |Personal Auto |Personal L3 |Nevada    |\n",
      "|WW63253 |7645.861827            |No      |Basic   |Bachelor |1/20/11          |Unemployed      |M     |0     |Suburban     |Married       |106                 |18                     |65                           |0                        |7                 |Offer1          |Call Center  |529.881344        |SUV          |Medsize     |Corporate Auto|Corporate L2|California|\n",
      "|HB64268 |2813.692575            |No      |Basic   |Bachelor |2/3/11           |Employed        |M     |43836 |Rural        |Single        |73                  |12                     |44                           |0                        |1                 |Offer1          |Agent        |138.130879        |Four-Door Car|Medsize     |Personal Auto |Personal L1 |Washington|\n",
      "+--------+-----------------------+--------+--------+---------+-----------------+----------------+------+------+-------------+--------------+--------------------+-----------------------+-----------------------------+-------------------------+------------------+----------------+-------------+------------------+-------------+------------+--------------+------------+----------+\n",
      "only showing top 5 rows\n",
      "\n"
     ]
    }
   ],
   "source": [
    "final_df.show(5, False)"
   ]
  },
  {
   "cell_type": "code",
   "execution_count": null,
   "metadata": {},
   "outputs": [],
   "source": []
  }
 ],
 "metadata": {
  "kernelspec": {
   "display_name": "Python 3 (ipykernel)",
   "language": "python",
   "name": "python3"
  },
  "language_info": {
   "codemirror_mode": {
    "name": "ipython",
    "version": 3
   },
   "file_extension": ".py",
   "mimetype": "text/x-python",
   "name": "python",
   "nbconvert_exporter": "python",
   "pygments_lexer": "ipython3",
   "version": "3.11.6"
  }
 },
 "nbformat": 4,
 "nbformat_minor": 2
}
