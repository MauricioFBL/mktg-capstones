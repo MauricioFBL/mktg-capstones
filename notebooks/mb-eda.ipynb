{
 "cells": [
  {
   "cell_type": "code",
   "execution_count": 1,
   "metadata": {},
   "outputs": [],
   "source": [
    "import pandas as pd\n",
    "import numpy as np\n",
    "import time \n",
    "from datetime import datetime\n",
    "import os\n",
    "import sys"
   ]
  },
  {
   "cell_type": "code",
   "execution_count": 5,
   "metadata": {},
   "outputs": [
    {
     "data": {
      "application/vnd.microsoft.datawrangler.viewer.v0+json": {
       "columns": [
        {
         "name": "index",
         "rawType": "int64",
         "type": "integer"
        },
        {
         "name": "ID_Campaña",
         "rawType": "int64",
         "type": "integer"
        },
        {
         "name": "Nombre_Campaña",
         "rawType": "object",
         "type": "string"
        }
       ],
       "conversionMethod": "pd.DataFrame",
       "ref": "f4ea13b5-2b6d-46be-8d89-ca8d367c905d",
       "rows": [
        [
         "0",
         "1001",
         "Campaña-1-Marca B-Lanzamiento"
        ],
        [
         "1",
         "1002",
         "Campaña-2-Marca A-Lanzamiento"
        ],
        [
         "2",
         "1003",
         "Campaña-3-Marca A-Conciencia"
        ],
        [
         "3",
         "1004",
         "Campaña-4-Marca A-Conciencia"
        ],
        [
         "4",
         "1005",
         "Campaña-5-Marca C-Promoción"
        ]
       ],
       "shape": {
        "columns": 2,
        "rows": 5
       }
      },
      "text/html": [
       "<div>\n",
       "<style scoped>\n",
       "    .dataframe tbody tr th:only-of-type {\n",
       "        vertical-align: middle;\n",
       "    }\n",
       "\n",
       "    .dataframe tbody tr th {\n",
       "        vertical-align: top;\n",
       "    }\n",
       "\n",
       "    .dataframe thead th {\n",
       "        text-align: right;\n",
       "    }\n",
       "</style>\n",
       "<table border=\"1\" class=\"dataframe\">\n",
       "  <thead>\n",
       "    <tr style=\"text-align: right;\">\n",
       "      <th></th>\n",
       "      <th>ID_Campaña</th>\n",
       "      <th>Nombre_Campaña</th>\n",
       "    </tr>\n",
       "  </thead>\n",
       "  <tbody>\n",
       "    <tr>\n",
       "      <th>0</th>\n",
       "      <td>1001</td>\n",
       "      <td>Campaña-1-Marca B-Lanzamiento</td>\n",
       "    </tr>\n",
       "    <tr>\n",
       "      <th>1</th>\n",
       "      <td>1002</td>\n",
       "      <td>Campaña-2-Marca A-Lanzamiento</td>\n",
       "    </tr>\n",
       "    <tr>\n",
       "      <th>2</th>\n",
       "      <td>1003</td>\n",
       "      <td>Campaña-3-Marca A-Conciencia</td>\n",
       "    </tr>\n",
       "    <tr>\n",
       "      <th>3</th>\n",
       "      <td>1004</td>\n",
       "      <td>Campaña-4-Marca A-Conciencia</td>\n",
       "    </tr>\n",
       "    <tr>\n",
       "      <th>4</th>\n",
       "      <td>1005</td>\n",
       "      <td>Campaña-5-Marca C-Promoción</td>\n",
       "    </tr>\n",
       "  </tbody>\n",
       "</table>\n",
       "</div>"
      ],
      "text/plain": [
       "   ID_Campaña                 Nombre_Campaña\n",
       "0        1001  Campaña-1-Marca B-Lanzamiento\n",
       "1        1002  Campaña-2-Marca A-Lanzamiento\n",
       "2        1003   Campaña-3-Marca A-Conciencia\n",
       "3        1004   Campaña-4-Marca A-Conciencia\n",
       "4        1005    Campaña-5-Marca C-Promoción"
      ]
     },
     "execution_count": 5,
     "metadata": {},
     "output_type": "execute_result"
    }
   ],
   "source": [
    "df_campanha = pd.read_csv('campanas.csv')\n",
    "df_campanha"
   ]
  },
  {
   "cell_type": "code",
   "execution_count": 7,
   "metadata": {},
   "outputs": [
    {
     "data": {
      "text/plain": [
       "Index(['ID_Campaña', 'Nombre_Campaña'], dtype='object')"
      ]
     },
     "execution_count": 7,
     "metadata": {},
     "output_type": "execute_result"
    }
   ],
   "source": [
    "df_campanha.columns"
   ]
  },
  {
   "cell_type": "code",
   "execution_count": 9,
   "metadata": {},
   "outputs": [
    {
     "data": {
      "application/vnd.microsoft.datawrangler.viewer.v0+json": {
       "columns": [
        {
         "name": "index",
         "rawType": "int64",
         "type": "integer"
        },
        {
         "name": "ID_Campaña",
         "rawType": "int64",
         "type": "integer"
        },
        {
         "name": "Nombre_Campaña",
         "rawType": "object",
         "type": "string"
        },
        {
         "name": "prefijo",
         "rawType": "object",
         "type": "string"
        },
        {
         "name": "nombre",
         "rawType": "object",
         "type": "string"
        },
        {
         "name": "marca",
         "rawType": "object",
         "type": "string"
        },
        {
         "name": "tipo",
         "rawType": "object",
         "type": "string"
        }
       ],
       "conversionMethod": "pd.DataFrame",
       "ref": "9ef5372d-969d-45d4-bd6e-2a0b2d1d1f46",
       "rows": [
        [
         "0",
         "1001",
         "Campaña-1-Marca B-Lanzamiento",
         "Campaña",
         "1",
         "Marca B",
         "Lanzamiento"
        ],
        [
         "1",
         "1002",
         "Campaña-2-Marca A-Lanzamiento",
         "Campaña",
         "2",
         "Marca A",
         "Lanzamiento"
        ],
        [
         "2",
         "1003",
         "Campaña-3-Marca A-Conciencia",
         "Campaña",
         "3",
         "Marca A",
         "Conciencia"
        ],
        [
         "3",
         "1004",
         "Campaña-4-Marca A-Conciencia",
         "Campaña",
         "4",
         "Marca A",
         "Conciencia"
        ],
        [
         "4",
         "1005",
         "Campaña-5-Marca C-Promoción",
         "Campaña",
         "5",
         "Marca C",
         "Promoción"
        ]
       ],
       "shape": {
        "columns": 6,
        "rows": 5
       }
      },
      "text/html": [
       "<div>\n",
       "<style scoped>\n",
       "    .dataframe tbody tr th:only-of-type {\n",
       "        vertical-align: middle;\n",
       "    }\n",
       "\n",
       "    .dataframe tbody tr th {\n",
       "        vertical-align: top;\n",
       "    }\n",
       "\n",
       "    .dataframe thead th {\n",
       "        text-align: right;\n",
       "    }\n",
       "</style>\n",
       "<table border=\"1\" class=\"dataframe\">\n",
       "  <thead>\n",
       "    <tr style=\"text-align: right;\">\n",
       "      <th></th>\n",
       "      <th>ID_Campaña</th>\n",
       "      <th>Nombre_Campaña</th>\n",
       "      <th>prefijo</th>\n",
       "      <th>nombre</th>\n",
       "      <th>marca</th>\n",
       "      <th>tipo</th>\n",
       "    </tr>\n",
       "  </thead>\n",
       "  <tbody>\n",
       "    <tr>\n",
       "      <th>0</th>\n",
       "      <td>1001</td>\n",
       "      <td>Campaña-1-Marca B-Lanzamiento</td>\n",
       "      <td>Campaña</td>\n",
       "      <td>1</td>\n",
       "      <td>Marca B</td>\n",
       "      <td>Lanzamiento</td>\n",
       "    </tr>\n",
       "    <tr>\n",
       "      <th>1</th>\n",
       "      <td>1002</td>\n",
       "      <td>Campaña-2-Marca A-Lanzamiento</td>\n",
       "      <td>Campaña</td>\n",
       "      <td>2</td>\n",
       "      <td>Marca A</td>\n",
       "      <td>Lanzamiento</td>\n",
       "    </tr>\n",
       "    <tr>\n",
       "      <th>2</th>\n",
       "      <td>1003</td>\n",
       "      <td>Campaña-3-Marca A-Conciencia</td>\n",
       "      <td>Campaña</td>\n",
       "      <td>3</td>\n",
       "      <td>Marca A</td>\n",
       "      <td>Conciencia</td>\n",
       "    </tr>\n",
       "    <tr>\n",
       "      <th>3</th>\n",
       "      <td>1004</td>\n",
       "      <td>Campaña-4-Marca A-Conciencia</td>\n",
       "      <td>Campaña</td>\n",
       "      <td>4</td>\n",
       "      <td>Marca A</td>\n",
       "      <td>Conciencia</td>\n",
       "    </tr>\n",
       "    <tr>\n",
       "      <th>4</th>\n",
       "      <td>1005</td>\n",
       "      <td>Campaña-5-Marca C-Promoción</td>\n",
       "      <td>Campaña</td>\n",
       "      <td>5</td>\n",
       "      <td>Marca C</td>\n",
       "      <td>Promoción</td>\n",
       "    </tr>\n",
       "  </tbody>\n",
       "</table>\n",
       "</div>"
      ],
      "text/plain": [
       "   ID_Campaña                 Nombre_Campaña  prefijo nombre    marca  \\\n",
       "0        1001  Campaña-1-Marca B-Lanzamiento  Campaña      1  Marca B   \n",
       "1        1002  Campaña-2-Marca A-Lanzamiento  Campaña      2  Marca A   \n",
       "2        1003   Campaña-3-Marca A-Conciencia  Campaña      3  Marca A   \n",
       "3        1004   Campaña-4-Marca A-Conciencia  Campaña      4  Marca A   \n",
       "4        1005    Campaña-5-Marca C-Promoción  Campaña      5  Marca C   \n",
       "\n",
       "          tipo  \n",
       "0  Lanzamiento  \n",
       "1  Lanzamiento  \n",
       "2   Conciencia  \n",
       "3   Conciencia  \n",
       "4    Promoción  "
      ]
     },
     "execution_count": 9,
     "metadata": {},
     "output_type": "execute_result"
    }
   ],
   "source": [
    "df_campanha[[\"prefijo\", \"nombre\", \"marca\", \"tipo\"]] = df_campanha[\"Nombre_Campaña\"].str.split(\"-\", expand = True)\n",
    "df_campanha"
   ]
  },
  {
   "cell_type": "code",
   "execution_count": 10,
   "metadata": {},
   "outputs": [
    {
     "data": {
      "application/vnd.microsoft.datawrangler.viewer.v0+json": {
       "columns": [
        {
         "name": "index",
         "rawType": "int64",
         "type": "integer"
        },
        {
         "name": "ID_Grupo_Anuncios",
         "rawType": "int64",
         "type": "integer"
        },
        {
         "name": "ID_Campaña",
         "rawType": "int64",
         "type": "integer"
        },
        {
         "name": "Nombre_Grupo_Anuncios",
         "rawType": "object",
         "type": "string"
        }
       ],
       "conversionMethod": "pd.DataFrame",
       "ref": "9d3a1f48-2a4c-4352-8b54-aa14ff66f30f",
       "rows": [
        [
         "0",
         "2001",
         "1002",
         "Grupo-1-Jovenes"
        ],
        [
         "1",
         "2002",
         "1002",
         "Grupo-2-Mujeres"
        ],
        [
         "2",
         "2003",
         "1004",
         "Grupo-3-Mujeres"
        ],
        [
         "3",
         "2004",
         "1005",
         "Grupo-4-Mujeres"
        ],
        [
         "4",
         "2005",
         "1002",
         "Grupo-5-Mujeres"
        ],
        [
         "5",
         "2006",
         "1004",
         "Grupo-6-Mujeres"
        ],
        [
         "6",
         "2007",
         "1001",
         "Grupo-7-Mujeres"
        ],
        [
         "7",
         "2008",
         "1004",
         "Grupo-8-Mujeres"
        ],
        [
         "8",
         "2009",
         "1005",
         "Grupo-9-Mujeres"
        ],
        [
         "9",
         "2010",
         "1003",
         "Grupo-10-Hombres"
        ],
        [
         "10",
         "2011",
         "1001",
         "Grupo-11-Jovenes"
        ],
        [
         "11",
         "2012",
         "1002",
         "Grupo-12-Jovenes"
        ],
        [
         "12",
         "2013",
         "1001",
         "Grupo-13-Jovenes"
        ],
        [
         "13",
         "2014",
         "1003",
         "Grupo-14-Mujeres"
        ],
        [
         "14",
         "2015",
         "1001",
         "Grupo-15-Hombres"
        ]
       ],
       "shape": {
        "columns": 3,
        "rows": 15
       }
      },
      "text/html": [
       "<div>\n",
       "<style scoped>\n",
       "    .dataframe tbody tr th:only-of-type {\n",
       "        vertical-align: middle;\n",
       "    }\n",
       "\n",
       "    .dataframe tbody tr th {\n",
       "        vertical-align: top;\n",
       "    }\n",
       "\n",
       "    .dataframe thead th {\n",
       "        text-align: right;\n",
       "    }\n",
       "</style>\n",
       "<table border=\"1\" class=\"dataframe\">\n",
       "  <thead>\n",
       "    <tr style=\"text-align: right;\">\n",
       "      <th></th>\n",
       "      <th>ID_Grupo_Anuncios</th>\n",
       "      <th>ID_Campaña</th>\n",
       "      <th>Nombre_Grupo_Anuncios</th>\n",
       "    </tr>\n",
       "  </thead>\n",
       "  <tbody>\n",
       "    <tr>\n",
       "      <th>0</th>\n",
       "      <td>2001</td>\n",
       "      <td>1002</td>\n",
       "      <td>Grupo-1-Jovenes</td>\n",
       "    </tr>\n",
       "    <tr>\n",
       "      <th>1</th>\n",
       "      <td>2002</td>\n",
       "      <td>1002</td>\n",
       "      <td>Grupo-2-Mujeres</td>\n",
       "    </tr>\n",
       "    <tr>\n",
       "      <th>2</th>\n",
       "      <td>2003</td>\n",
       "      <td>1004</td>\n",
       "      <td>Grupo-3-Mujeres</td>\n",
       "    </tr>\n",
       "    <tr>\n",
       "      <th>3</th>\n",
       "      <td>2004</td>\n",
       "      <td>1005</td>\n",
       "      <td>Grupo-4-Mujeres</td>\n",
       "    </tr>\n",
       "    <tr>\n",
       "      <th>4</th>\n",
       "      <td>2005</td>\n",
       "      <td>1002</td>\n",
       "      <td>Grupo-5-Mujeres</td>\n",
       "    </tr>\n",
       "    <tr>\n",
       "      <th>5</th>\n",
       "      <td>2006</td>\n",
       "      <td>1004</td>\n",
       "      <td>Grupo-6-Mujeres</td>\n",
       "    </tr>\n",
       "    <tr>\n",
       "      <th>6</th>\n",
       "      <td>2007</td>\n",
       "      <td>1001</td>\n",
       "      <td>Grupo-7-Mujeres</td>\n",
       "    </tr>\n",
       "    <tr>\n",
       "      <th>7</th>\n",
       "      <td>2008</td>\n",
       "      <td>1004</td>\n",
       "      <td>Grupo-8-Mujeres</td>\n",
       "    </tr>\n",
       "    <tr>\n",
       "      <th>8</th>\n",
       "      <td>2009</td>\n",
       "      <td>1005</td>\n",
       "      <td>Grupo-9-Mujeres</td>\n",
       "    </tr>\n",
       "    <tr>\n",
       "      <th>9</th>\n",
       "      <td>2010</td>\n",
       "      <td>1003</td>\n",
       "      <td>Grupo-10-Hombres</td>\n",
       "    </tr>\n",
       "    <tr>\n",
       "      <th>10</th>\n",
       "      <td>2011</td>\n",
       "      <td>1001</td>\n",
       "      <td>Grupo-11-Jovenes</td>\n",
       "    </tr>\n",
       "    <tr>\n",
       "      <th>11</th>\n",
       "      <td>2012</td>\n",
       "      <td>1002</td>\n",
       "      <td>Grupo-12-Jovenes</td>\n",
       "    </tr>\n",
       "    <tr>\n",
       "      <th>12</th>\n",
       "      <td>2013</td>\n",
       "      <td>1001</td>\n",
       "      <td>Grupo-13-Jovenes</td>\n",
       "    </tr>\n",
       "    <tr>\n",
       "      <th>13</th>\n",
       "      <td>2014</td>\n",
       "      <td>1003</td>\n",
       "      <td>Grupo-14-Mujeres</td>\n",
       "    </tr>\n",
       "    <tr>\n",
       "      <th>14</th>\n",
       "      <td>2015</td>\n",
       "      <td>1001</td>\n",
       "      <td>Grupo-15-Hombres</td>\n",
       "    </tr>\n",
       "  </tbody>\n",
       "</table>\n",
       "</div>"
      ],
      "text/plain": [
       "    ID_Grupo_Anuncios  ID_Campaña Nombre_Grupo_Anuncios\n",
       "0                2001        1002       Grupo-1-Jovenes\n",
       "1                2002        1002       Grupo-2-Mujeres\n",
       "2                2003        1004       Grupo-3-Mujeres\n",
       "3                2004        1005       Grupo-4-Mujeres\n",
       "4                2005        1002       Grupo-5-Mujeres\n",
       "5                2006        1004       Grupo-6-Mujeres\n",
       "6                2007        1001       Grupo-7-Mujeres\n",
       "7                2008        1004       Grupo-8-Mujeres\n",
       "8                2009        1005       Grupo-9-Mujeres\n",
       "9                2010        1003      Grupo-10-Hombres\n",
       "10               2011        1001      Grupo-11-Jovenes\n",
       "11               2012        1002      Grupo-12-Jovenes\n",
       "12               2013        1001      Grupo-13-Jovenes\n",
       "13               2014        1003      Grupo-14-Mujeres\n",
       "14               2015        1001      Grupo-15-Hombres"
      ]
     },
     "execution_count": 10,
     "metadata": {},
     "output_type": "execute_result"
    }
   ],
   "source": [
    "df_grupo = pd.read_csv('grupos_anuncios.csv')\n",
    "df_grupo"
   ]
  },
  {
   "cell_type": "code",
   "execution_count": null,
   "metadata": {},
   "outputs": [
    {
     "data": {
      "application/vnd.microsoft.datawrangler.viewer.v0+json": {
       "columns": [
        {
         "name": "index",
         "rawType": "int64",
         "type": "integer"
        },
        {
         "name": "ID_Anuncio",
         "rawType": "int64",
         "type": "integer"
        },
        {
         "name": "ID_Grupo_Anuncios",
         "rawType": "int64",
         "type": "integer"
        },
        {
         "name": "Nombre_Anuncio",
         "rawType": "object",
         "type": "string"
        },
        {
         "name": "Plataforma",
         "rawType": "object",
         "type": "string"
        }
       ],
       "conversionMethod": "pd.DataFrame",
       "ref": "d214e87c-660b-4904-ae65-e4b9518f3ff4",
       "rows": [
        [
         "0",
         "3001",
         "2015",
         "Anuncio-1-Video",
         "Facebook"
        ],
        [
         "1",
         "3002",
         "2003",
         "Anuncio-2-Video",
         "Audience Network"
        ],
        [
         "2",
         "3003",
         "2010",
         "Anuncio-3-Video",
         "Facebook"
        ],
        [
         "3",
         "3004",
         "2014",
         "Anuncio-4-Video",
         "Facebook"
        ],
        [
         "4",
         "3005",
         "2003",
         "Anuncio-5-Video",
         "Facebook"
        ],
        [
         "5",
         "3006",
         "2006",
         "Anuncio-6-Carrusel",
         "Facebook"
        ],
        [
         "6",
         "3007",
         "2008",
         "Anuncio-7-Carrusel",
         "Facebook"
        ],
        [
         "7",
         "3008",
         "2015",
         "Anuncio-8-Carrusel",
         "Instagram"
        ],
        [
         "8",
         "3009",
         "2008",
         "Anuncio-9-Carrusel",
         "Facebook"
        ],
        [
         "9",
         "3010",
         "2003",
         "Anuncio-10-Carrusel",
         "Instagram"
        ],
        [
         "10",
         "3011",
         "2012",
         "Anuncio-11-Video",
         "Facebook"
        ],
        [
         "11",
         "3012",
         "2010",
         "Anuncio-12-Video",
         "Instagram"
        ],
        [
         "12",
         "3013",
         "2002",
         "Anuncio-13-Video",
         "Audience Network"
        ],
        [
         "13",
         "3014",
         "2002",
         "Anuncio-14-Carrusel",
         "Audience Network"
        ],
        [
         "14",
         "3015",
         "2004",
         "Anuncio-15-Video",
         "Audience Network"
        ],
        [
         "15",
         "3016",
         "2011",
         "Anuncio-16-Carrusel",
         "Instagram"
        ],
        [
         "16",
         "3017",
         "2013",
         "Anuncio-17-Carrusel",
         "Instagram"
        ],
        [
         "17",
         "3018",
         "2015",
         "Anuncio-18-Carrusel",
         "Instagram"
        ],
        [
         "18",
         "3019",
         "2004",
         "Anuncio-19-Video",
         "Facebook"
        ],
        [
         "19",
         "3020",
         "2003",
         "Anuncio-20-Imagen",
         "Audience Network"
        ],
        [
         "20",
         "3021",
         "2002",
         "Anuncio-21-Carrusel",
         "Instagram"
        ],
        [
         "21",
         "3022",
         "2008",
         "Anuncio-22-Video",
         "Facebook"
        ],
        [
         "22",
         "3023",
         "2011",
         "Anuncio-23-Carrusel",
         "Instagram"
        ],
        [
         "23",
         "3024",
         "2004",
         "Anuncio-24-Carrusel",
         "Audience Network"
        ],
        [
         "24",
         "3025",
         "2012",
         "Anuncio-25-Imagen",
         "Audience Network"
        ],
        [
         "25",
         "3026",
         "2005",
         "Anuncio-26-Imagen",
         "Audience Network"
        ],
        [
         "26",
         "3027",
         "2008",
         "Anuncio-27-Carrusel",
         "Instagram"
        ],
        [
         "27",
         "3028",
         "2005",
         "Anuncio-28-Video",
         "Facebook"
        ],
        [
         "28",
         "3029",
         "2014",
         "Anuncio-29-Video",
         "Audience Network"
        ],
        [
         "29",
         "3030",
         "2015",
         "Anuncio-30-Video",
         "Facebook"
        ],
        [
         "30",
         "3031",
         "2012",
         "Anuncio-31-Imagen",
         "Audience Network"
        ],
        [
         "31",
         "3032",
         "2013",
         "Anuncio-32-Carrusel",
         "Instagram"
        ],
        [
         "32",
         "3033",
         "2015",
         "Anuncio-33-Imagen",
         "Audience Network"
        ],
        [
         "33",
         "3034",
         "2013",
         "Anuncio-34-Video",
         "Facebook"
        ],
        [
         "34",
         "3035",
         "2003",
         "Anuncio-35-Carrusel",
         "Audience Network"
        ],
        [
         "35",
         "3036",
         "2013",
         "Anuncio-36-Carrusel",
         "Instagram"
        ],
        [
         "36",
         "3037",
         "2004",
         "Anuncio-37-Imagen",
         "Audience Network"
        ],
        [
         "37",
         "3038",
         "2010",
         "Anuncio-38-Carrusel",
         "Instagram"
        ],
        [
         "38",
         "3039",
         "2005",
         "Anuncio-39-Video",
         "Facebook"
        ],
        [
         "39",
         "3040",
         "2003",
         "Anuncio-40-Carrusel",
         "Audience Network"
        ],
        [
         "40",
         "3041",
         "2005",
         "Anuncio-41-Carrusel",
         "Instagram"
        ],
        [
         "41",
         "3042",
         "2011",
         "Anuncio-42-Video",
         "Facebook"
        ],
        [
         "42",
         "3043",
         "2004",
         "Anuncio-43-Video",
         "Facebook"
        ],
        [
         "43",
         "3044",
         "2010",
         "Anuncio-44-Carrusel",
         "Facebook"
        ],
        [
         "44",
         "3045",
         "2011",
         "Anuncio-45-Carrusel",
         "Audience Network"
        ],
        [
         "45",
         "3046",
         "2010",
         "Anuncio-46-Carrusel",
         "Instagram"
        ],
        [
         "46",
         "3047",
         "2011",
         "Anuncio-47-Video",
         "Instagram"
        ],
        [
         "47",
         "3048",
         "2009",
         "Anuncio-48-Carrusel",
         "Instagram"
        ],
        [
         "48",
         "3049",
         "2005",
         "Anuncio-49-Imagen",
         "Audience Network"
        ],
        [
         "49",
         "3050",
         "2012",
         "Anuncio-50-Video",
         "Instagram"
        ]
       ],
       "shape": {
        "columns": 4,
        "rows": 50
       }
      },
      "text/html": [
       "<div>\n",
       "<style scoped>\n",
       "    .dataframe tbody tr th:only-of-type {\n",
       "        vertical-align: middle;\n",
       "    }\n",
       "\n",
       "    .dataframe tbody tr th {\n",
       "        vertical-align: top;\n",
       "    }\n",
       "\n",
       "    .dataframe thead th {\n",
       "        text-align: right;\n",
       "    }\n",
       "</style>\n",
       "<table border=\"1\" class=\"dataframe\">\n",
       "  <thead>\n",
       "    <tr style=\"text-align: right;\">\n",
       "      <th></th>\n",
       "      <th>ID_Anuncio</th>\n",
       "      <th>ID_Grupo_Anuncios</th>\n",
       "      <th>Nombre_Anuncio</th>\n",
       "      <th>Plataforma</th>\n",
       "    </tr>\n",
       "  </thead>\n",
       "  <tbody>\n",
       "    <tr>\n",
       "      <th>0</th>\n",
       "      <td>3001</td>\n",
       "      <td>2015</td>\n",
       "      <td>Anuncio-1-Video</td>\n",
       "      <td>Facebook</td>\n",
       "    </tr>\n",
       "    <tr>\n",
       "      <th>1</th>\n",
       "      <td>3002</td>\n",
       "      <td>2003</td>\n",
       "      <td>Anuncio-2-Video</td>\n",
       "      <td>Audience Network</td>\n",
       "    </tr>\n",
       "    <tr>\n",
       "      <th>2</th>\n",
       "      <td>3003</td>\n",
       "      <td>2010</td>\n",
       "      <td>Anuncio-3-Video</td>\n",
       "      <td>Facebook</td>\n",
       "    </tr>\n",
       "    <tr>\n",
       "      <th>3</th>\n",
       "      <td>3004</td>\n",
       "      <td>2014</td>\n",
       "      <td>Anuncio-4-Video</td>\n",
       "      <td>Facebook</td>\n",
       "    </tr>\n",
       "    <tr>\n",
       "      <th>4</th>\n",
       "      <td>3005</td>\n",
       "      <td>2003</td>\n",
       "      <td>Anuncio-5-Video</td>\n",
       "      <td>Facebook</td>\n",
       "    </tr>\n",
       "    <tr>\n",
       "      <th>5</th>\n",
       "      <td>3006</td>\n",
       "      <td>2006</td>\n",
       "      <td>Anuncio-6-Carrusel</td>\n",
       "      <td>Facebook</td>\n",
       "    </tr>\n",
       "    <tr>\n",
       "      <th>6</th>\n",
       "      <td>3007</td>\n",
       "      <td>2008</td>\n",
       "      <td>Anuncio-7-Carrusel</td>\n",
       "      <td>Facebook</td>\n",
       "    </tr>\n",
       "    <tr>\n",
       "      <th>7</th>\n",
       "      <td>3008</td>\n",
       "      <td>2015</td>\n",
       "      <td>Anuncio-8-Carrusel</td>\n",
       "      <td>Instagram</td>\n",
       "    </tr>\n",
       "    <tr>\n",
       "      <th>8</th>\n",
       "      <td>3009</td>\n",
       "      <td>2008</td>\n",
       "      <td>Anuncio-9-Carrusel</td>\n",
       "      <td>Facebook</td>\n",
       "    </tr>\n",
       "    <tr>\n",
       "      <th>9</th>\n",
       "      <td>3010</td>\n",
       "      <td>2003</td>\n",
       "      <td>Anuncio-10-Carrusel</td>\n",
       "      <td>Instagram</td>\n",
       "    </tr>\n",
       "    <tr>\n",
       "      <th>10</th>\n",
       "      <td>3011</td>\n",
       "      <td>2012</td>\n",
       "      <td>Anuncio-11-Video</td>\n",
       "      <td>Facebook</td>\n",
       "    </tr>\n",
       "    <tr>\n",
       "      <th>11</th>\n",
       "      <td>3012</td>\n",
       "      <td>2010</td>\n",
       "      <td>Anuncio-12-Video</td>\n",
       "      <td>Instagram</td>\n",
       "    </tr>\n",
       "    <tr>\n",
       "      <th>12</th>\n",
       "      <td>3013</td>\n",
       "      <td>2002</td>\n",
       "      <td>Anuncio-13-Video</td>\n",
       "      <td>Audience Network</td>\n",
       "    </tr>\n",
       "    <tr>\n",
       "      <th>13</th>\n",
       "      <td>3014</td>\n",
       "      <td>2002</td>\n",
       "      <td>Anuncio-14-Carrusel</td>\n",
       "      <td>Audience Network</td>\n",
       "    </tr>\n",
       "    <tr>\n",
       "      <th>14</th>\n",
       "      <td>3015</td>\n",
       "      <td>2004</td>\n",
       "      <td>Anuncio-15-Video</td>\n",
       "      <td>Audience Network</td>\n",
       "    </tr>\n",
       "    <tr>\n",
       "      <th>15</th>\n",
       "      <td>3016</td>\n",
       "      <td>2011</td>\n",
       "      <td>Anuncio-16-Carrusel</td>\n",
       "      <td>Instagram</td>\n",
       "    </tr>\n",
       "    <tr>\n",
       "      <th>16</th>\n",
       "      <td>3017</td>\n",
       "      <td>2013</td>\n",
       "      <td>Anuncio-17-Carrusel</td>\n",
       "      <td>Instagram</td>\n",
       "    </tr>\n",
       "    <tr>\n",
       "      <th>17</th>\n",
       "      <td>3018</td>\n",
       "      <td>2015</td>\n",
       "      <td>Anuncio-18-Carrusel</td>\n",
       "      <td>Instagram</td>\n",
       "    </tr>\n",
       "    <tr>\n",
       "      <th>18</th>\n",
       "      <td>3019</td>\n",
       "      <td>2004</td>\n",
       "      <td>Anuncio-19-Video</td>\n",
       "      <td>Facebook</td>\n",
       "    </tr>\n",
       "    <tr>\n",
       "      <th>19</th>\n",
       "      <td>3020</td>\n",
       "      <td>2003</td>\n",
       "      <td>Anuncio-20-Imagen</td>\n",
       "      <td>Audience Network</td>\n",
       "    </tr>\n",
       "    <tr>\n",
       "      <th>20</th>\n",
       "      <td>3021</td>\n",
       "      <td>2002</td>\n",
       "      <td>Anuncio-21-Carrusel</td>\n",
       "      <td>Instagram</td>\n",
       "    </tr>\n",
       "    <tr>\n",
       "      <th>21</th>\n",
       "      <td>3022</td>\n",
       "      <td>2008</td>\n",
       "      <td>Anuncio-22-Video</td>\n",
       "      <td>Facebook</td>\n",
       "    </tr>\n",
       "    <tr>\n",
       "      <th>22</th>\n",
       "      <td>3023</td>\n",
       "      <td>2011</td>\n",
       "      <td>Anuncio-23-Carrusel</td>\n",
       "      <td>Instagram</td>\n",
       "    </tr>\n",
       "    <tr>\n",
       "      <th>23</th>\n",
       "      <td>3024</td>\n",
       "      <td>2004</td>\n",
       "      <td>Anuncio-24-Carrusel</td>\n",
       "      <td>Audience Network</td>\n",
       "    </tr>\n",
       "    <tr>\n",
       "      <th>24</th>\n",
       "      <td>3025</td>\n",
       "      <td>2012</td>\n",
       "      <td>Anuncio-25-Imagen</td>\n",
       "      <td>Audience Network</td>\n",
       "    </tr>\n",
       "    <tr>\n",
       "      <th>25</th>\n",
       "      <td>3026</td>\n",
       "      <td>2005</td>\n",
       "      <td>Anuncio-26-Imagen</td>\n",
       "      <td>Audience Network</td>\n",
       "    </tr>\n",
       "    <tr>\n",
       "      <th>26</th>\n",
       "      <td>3027</td>\n",
       "      <td>2008</td>\n",
       "      <td>Anuncio-27-Carrusel</td>\n",
       "      <td>Instagram</td>\n",
       "    </tr>\n",
       "    <tr>\n",
       "      <th>27</th>\n",
       "      <td>3028</td>\n",
       "      <td>2005</td>\n",
       "      <td>Anuncio-28-Video</td>\n",
       "      <td>Facebook</td>\n",
       "    </tr>\n",
       "    <tr>\n",
       "      <th>28</th>\n",
       "      <td>3029</td>\n",
       "      <td>2014</td>\n",
       "      <td>Anuncio-29-Video</td>\n",
       "      <td>Audience Network</td>\n",
       "    </tr>\n",
       "    <tr>\n",
       "      <th>29</th>\n",
       "      <td>3030</td>\n",
       "      <td>2015</td>\n",
       "      <td>Anuncio-30-Video</td>\n",
       "      <td>Facebook</td>\n",
       "    </tr>\n",
       "    <tr>\n",
       "      <th>30</th>\n",
       "      <td>3031</td>\n",
       "      <td>2012</td>\n",
       "      <td>Anuncio-31-Imagen</td>\n",
       "      <td>Audience Network</td>\n",
       "    </tr>\n",
       "    <tr>\n",
       "      <th>31</th>\n",
       "      <td>3032</td>\n",
       "      <td>2013</td>\n",
       "      <td>Anuncio-32-Carrusel</td>\n",
       "      <td>Instagram</td>\n",
       "    </tr>\n",
       "    <tr>\n",
       "      <th>32</th>\n",
       "      <td>3033</td>\n",
       "      <td>2015</td>\n",
       "      <td>Anuncio-33-Imagen</td>\n",
       "      <td>Audience Network</td>\n",
       "    </tr>\n",
       "    <tr>\n",
       "      <th>33</th>\n",
       "      <td>3034</td>\n",
       "      <td>2013</td>\n",
       "      <td>Anuncio-34-Video</td>\n",
       "      <td>Facebook</td>\n",
       "    </tr>\n",
       "    <tr>\n",
       "      <th>34</th>\n",
       "      <td>3035</td>\n",
       "      <td>2003</td>\n",
       "      <td>Anuncio-35-Carrusel</td>\n",
       "      <td>Audience Network</td>\n",
       "    </tr>\n",
       "    <tr>\n",
       "      <th>35</th>\n",
       "      <td>3036</td>\n",
       "      <td>2013</td>\n",
       "      <td>Anuncio-36-Carrusel</td>\n",
       "      <td>Instagram</td>\n",
       "    </tr>\n",
       "    <tr>\n",
       "      <th>36</th>\n",
       "      <td>3037</td>\n",
       "      <td>2004</td>\n",
       "      <td>Anuncio-37-Imagen</td>\n",
       "      <td>Audience Network</td>\n",
       "    </tr>\n",
       "    <tr>\n",
       "      <th>37</th>\n",
       "      <td>3038</td>\n",
       "      <td>2010</td>\n",
       "      <td>Anuncio-38-Carrusel</td>\n",
       "      <td>Instagram</td>\n",
       "    </tr>\n",
       "    <tr>\n",
       "      <th>38</th>\n",
       "      <td>3039</td>\n",
       "      <td>2005</td>\n",
       "      <td>Anuncio-39-Video</td>\n",
       "      <td>Facebook</td>\n",
       "    </tr>\n",
       "    <tr>\n",
       "      <th>39</th>\n",
       "      <td>3040</td>\n",
       "      <td>2003</td>\n",
       "      <td>Anuncio-40-Carrusel</td>\n",
       "      <td>Audience Network</td>\n",
       "    </tr>\n",
       "    <tr>\n",
       "      <th>40</th>\n",
       "      <td>3041</td>\n",
       "      <td>2005</td>\n",
       "      <td>Anuncio-41-Carrusel</td>\n",
       "      <td>Instagram</td>\n",
       "    </tr>\n",
       "    <tr>\n",
       "      <th>41</th>\n",
       "      <td>3042</td>\n",
       "      <td>2011</td>\n",
       "      <td>Anuncio-42-Video</td>\n",
       "      <td>Facebook</td>\n",
       "    </tr>\n",
       "    <tr>\n",
       "      <th>42</th>\n",
       "      <td>3043</td>\n",
       "      <td>2004</td>\n",
       "      <td>Anuncio-43-Video</td>\n",
       "      <td>Facebook</td>\n",
       "    </tr>\n",
       "    <tr>\n",
       "      <th>43</th>\n",
       "      <td>3044</td>\n",
       "      <td>2010</td>\n",
       "      <td>Anuncio-44-Carrusel</td>\n",
       "      <td>Facebook</td>\n",
       "    </tr>\n",
       "    <tr>\n",
       "      <th>44</th>\n",
       "      <td>3045</td>\n",
       "      <td>2011</td>\n",
       "      <td>Anuncio-45-Carrusel</td>\n",
       "      <td>Audience Network</td>\n",
       "    </tr>\n",
       "    <tr>\n",
       "      <th>45</th>\n",
       "      <td>3046</td>\n",
       "      <td>2010</td>\n",
       "      <td>Anuncio-46-Carrusel</td>\n",
       "      <td>Instagram</td>\n",
       "    </tr>\n",
       "    <tr>\n",
       "      <th>46</th>\n",
       "      <td>3047</td>\n",
       "      <td>2011</td>\n",
       "      <td>Anuncio-47-Video</td>\n",
       "      <td>Instagram</td>\n",
       "    </tr>\n",
       "    <tr>\n",
       "      <th>47</th>\n",
       "      <td>3048</td>\n",
       "      <td>2009</td>\n",
       "      <td>Anuncio-48-Carrusel</td>\n",
       "      <td>Instagram</td>\n",
       "    </tr>\n",
       "    <tr>\n",
       "      <th>48</th>\n",
       "      <td>3049</td>\n",
       "      <td>2005</td>\n",
       "      <td>Anuncio-49-Imagen</td>\n",
       "      <td>Audience Network</td>\n",
       "    </tr>\n",
       "    <tr>\n",
       "      <th>49</th>\n",
       "      <td>3050</td>\n",
       "      <td>2012</td>\n",
       "      <td>Anuncio-50-Video</td>\n",
       "      <td>Instagram</td>\n",
       "    </tr>\n",
       "  </tbody>\n",
       "</table>\n",
       "</div>"
      ],
      "text/plain": [
       "    ID_Anuncio  ID_Grupo_Anuncios       Nombre_Anuncio        Plataforma\n",
       "0         3001               2015      Anuncio-1-Video          Facebook\n",
       "1         3002               2003      Anuncio-2-Video  Audience Network\n",
       "2         3003               2010      Anuncio-3-Video          Facebook\n",
       "3         3004               2014      Anuncio-4-Video          Facebook\n",
       "4         3005               2003      Anuncio-5-Video          Facebook\n",
       "5         3006               2006   Anuncio-6-Carrusel          Facebook\n",
       "6         3007               2008   Anuncio-7-Carrusel          Facebook\n",
       "7         3008               2015   Anuncio-8-Carrusel         Instagram\n",
       "8         3009               2008   Anuncio-9-Carrusel          Facebook\n",
       "9         3010               2003  Anuncio-10-Carrusel         Instagram\n",
       "10        3011               2012     Anuncio-11-Video          Facebook\n",
       "11        3012               2010     Anuncio-12-Video         Instagram\n",
       "12        3013               2002     Anuncio-13-Video  Audience Network\n",
       "13        3014               2002  Anuncio-14-Carrusel  Audience Network\n",
       "14        3015               2004     Anuncio-15-Video  Audience Network\n",
       "15        3016               2011  Anuncio-16-Carrusel         Instagram\n",
       "16        3017               2013  Anuncio-17-Carrusel         Instagram\n",
       "17        3018               2015  Anuncio-18-Carrusel         Instagram\n",
       "18        3019               2004     Anuncio-19-Video          Facebook\n",
       "19        3020               2003    Anuncio-20-Imagen  Audience Network\n",
       "20        3021               2002  Anuncio-21-Carrusel         Instagram\n",
       "21        3022               2008     Anuncio-22-Video          Facebook\n",
       "22        3023               2011  Anuncio-23-Carrusel         Instagram\n",
       "23        3024               2004  Anuncio-24-Carrusel  Audience Network\n",
       "24        3025               2012    Anuncio-25-Imagen  Audience Network\n",
       "25        3026               2005    Anuncio-26-Imagen  Audience Network\n",
       "26        3027               2008  Anuncio-27-Carrusel         Instagram\n",
       "27        3028               2005     Anuncio-28-Video          Facebook\n",
       "28        3029               2014     Anuncio-29-Video  Audience Network\n",
       "29        3030               2015     Anuncio-30-Video          Facebook\n",
       "30        3031               2012    Anuncio-31-Imagen  Audience Network\n",
       "31        3032               2013  Anuncio-32-Carrusel         Instagram\n",
       "32        3033               2015    Anuncio-33-Imagen  Audience Network\n",
       "33        3034               2013     Anuncio-34-Video          Facebook\n",
       "34        3035               2003  Anuncio-35-Carrusel  Audience Network\n",
       "35        3036               2013  Anuncio-36-Carrusel         Instagram\n",
       "36        3037               2004    Anuncio-37-Imagen  Audience Network\n",
       "37        3038               2010  Anuncio-38-Carrusel         Instagram\n",
       "38        3039               2005     Anuncio-39-Video          Facebook\n",
       "39        3040               2003  Anuncio-40-Carrusel  Audience Network\n",
       "40        3041               2005  Anuncio-41-Carrusel         Instagram\n",
       "41        3042               2011     Anuncio-42-Video          Facebook\n",
       "42        3043               2004     Anuncio-43-Video          Facebook\n",
       "43        3044               2010  Anuncio-44-Carrusel          Facebook\n",
       "44        3045               2011  Anuncio-45-Carrusel  Audience Network\n",
       "45        3046               2010  Anuncio-46-Carrusel         Instagram\n",
       "46        3047               2011     Anuncio-47-Video         Instagram\n",
       "47        3048               2009  Anuncio-48-Carrusel         Instagram\n",
       "48        3049               2005    Anuncio-49-Imagen  Audience Network\n",
       "49        3050               2012     Anuncio-50-Video         Instagram"
      ]
     },
     "execution_count": 2,
     "metadata": {},
     "output_type": "execute_result"
    }
   ],
   "source": [
    "df_anuncio = pd.read_csv('anuncios.csv')\n",
    "df_anuncio"
   ]
  },
  {
   "cell_type": "code",
   "execution_count": null,
   "metadata": {},
   "outputs": [],
   "source": []
  },
  {
   "cell_type": "code",
   "execution_count": null,
   "metadata": {},
   "outputs": [],
   "source": []
  },
  {
   "cell_type": "code",
   "execution_count": null,
   "metadata": {},
   "outputs": [],
   "source": []
  },
  {
   "cell_type": "code",
   "execution_count": null,
   "metadata": {},
   "outputs": [],
   "source": []
  },
  {
   "cell_type": "code",
   "execution_count": null,
   "metadata": {},
   "outputs": [],
   "source": []
  },
  {
   "cell_type": "code",
   "execution_count": null,
   "metadata": {},
   "outputs": [],
   "source": []
  }
 ],
 "metadata": {
  "kernelspec": {
   "display_name": "Python 3",
   "language": "python",
   "name": "python3"
  },
  "language_info": {
   "codemirror_mode": {
    "name": "ipython",
    "version": 3
   },
   "file_extension": ".py",
   "mimetype": "text/x-python",
   "name": "python",
   "nbconvert_exporter": "python",
   "pygments_lexer": "ipython3",
   "version": "3.11.4"
  }
 },
 "nbformat": 4,
 "nbformat_minor": 2
}
