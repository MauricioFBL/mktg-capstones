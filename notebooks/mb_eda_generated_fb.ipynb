{
 "cells": [
  {
   "cell_type": "code",
   "execution_count": null,
   "metadata": {},
   "outputs": [
    {
     "data": {
      "text/html": [
       "\n",
       "            <div>\n",
       "                <p><b>SparkSession - in-memory</b></p>\n",
       "                \n",
       "        <div>\n",
       "            <p><b>SparkContext</b></p>\n",
       "\n",
       "            <p><a href=\"http://1ddfb7046052:4040\">Spark UI</a></p>\n",
       "\n",
       "            <dl>\n",
       "              <dt>Version</dt>\n",
       "                <dd><code>v3.5.0</code></dd>\n",
       "              <dt>Master</dt>\n",
       "                <dd><code>local[*]</code></dd>\n",
       "              <dt>AppName</dt>\n",
       "                <dd><code>pyspark-shell</code></dd>\n",
       "            </dl>\n",
       "        </div>\n",
       "        \n",
       "            </div>\n",
       "        "
      ],
      "text/plain": [
       "<pyspark.sql.session.SparkSession at 0xffff56643890>"
      ]
     },
     "execution_count": 1,
     "metadata": {},
     "output_type": "execute_result"
    }
   ],
   "source": [
    "# importar la spark session\n",
    "from pyspark.sql import SparkSession\n",
    "\n",
    "# crar sessio.\n",
    "spark = SparkSession.builder.master(\"local[*]\").getOrCreate()\n",
    "spark"
   ]
  },
  {
   "cell_type": "code",
   "execution_count": 40,
   "metadata": {},
   "outputs": [
    {
     "name": "stdout",
     "output_type": "stream",
     "text": [
      "+----------+-----------------------------+\n",
      "|ID_Campaña|Nombre_Campaña               |\n",
      "+----------+-----------------------------+\n",
      "|1001      |Campaña-1-Marca B-Lanzamiento|\n",
      "|1002      |Campaña-2-Marca A-Lanzamiento|\n",
      "|1003      |Campaña-3-Marca A-Conciencia |\n",
      "|1004      |Campaña-4-Marca A-Conciencia |\n",
      "|1005      |Campaña-5-Marca C-Promoción  |\n",
      "+----------+-----------------------------+\n",
      "\n"
     ]
    }
   ],
   "source": [
    "campaign_df = spark.read.csv(\"./inputs/campanas.csv\", header=True, inferSchema=True)\n",
    "campaign_df.show(truncate=False)"
   ]
  },
  {
   "cell_type": "code",
   "execution_count": 41,
   "metadata": {},
   "outputs": [
    {
     "name": "stdout",
     "output_type": "stream",
     "text": [
      "+-----------+---+-------+-----------+-------------+\n",
      "|campaign_id|id |marca  |tipo       |campaign_name|\n",
      "+-----------+---+-------+-----------+-------------+\n",
      "|1001       |1  |Marca B|Lanzamiento|Campaña_1    |\n",
      "|1002       |2  |Marca A|Lanzamiento|Campaña_2    |\n",
      "|1003       |3  |Marca A|Conciencia |Campaña_3    |\n",
      "|1004       |4  |Marca A|Conciencia |Campaña_4    |\n",
      "|1005       |5  |Marca C|Promoción  |Campaña_5    |\n",
      "+-----------+---+-------+-----------+-------------+\n",
      "\n"
     ]
    }
   ],
   "source": [
    "from pyspark.sql.functions import split, col, concat, lit\n",
    "# SPLIT Nombre_Campana in 4 columns splited by - using split function and col function\n",
    "campaign_df = campaign_df.withColumn(\"prefijo\", split(campaign_df[\"Nombre_Campaña\"], \"-\")[0])\n",
    "campaign_df = campaign_df.withColumn(\"id\", split(campaign_df[\"Nombre_Campaña\"], \"-\")[1])\n",
    "campaign_df = campaign_df.withColumn(\"marca\", split(campaign_df[\"Nombre_Campaña\"], \"-\")[2])\n",
    "campaign_df = campaign_df.withColumn(\"tipo\", split(campaign_df[\"Nombre_Campaña\"], \"-\")[3])\n",
    "# Create column campaign_name concatenating column prefijo + \"_\" + column id\n",
    "campaign_df = campaign_df.withColumn(\"campaign_name\", concat(col(\"prefijo\"), lit(\"_\") , col(\"id\")))\n",
    "campaign_df =  campaign_df.drop(\"Nombre_Campaña\").drop(\"prefijo\")\n",
    "campaign_df = campaign_df.withColumnRenamed(\"ID_Campaña\", \"campaign_id\")\n",
    "# campaign_df = campaign_df.withColumn(\"campaign_name\", campaign_df[\"prefijo\"] + \"_\" + campaign_df[\"id\"])\n",
    "campaign_df.show(truncate=False)"
   ]
  },
  {
   "cell_type": "code",
   "execution_count": 43,
   "metadata": {},
   "outputs": [
    {
     "name": "stdout",
     "output_type": "stream",
     "text": [
      "root\n",
      " |-- campaign_id: integer (nullable = true)\n",
      " |-- id: string (nullable = true)\n",
      " |-- marca: string (nullable = true)\n",
      " |-- tipo: string (nullable = true)\n",
      " |-- campaign_name: string (nullable = true)\n",
      "\n"
     ]
    }
   ],
   "source": [
    "campaign_df.printSchema()"
   ]
  },
  {
   "cell_type": "code",
   "execution_count": 18,
   "metadata": {},
   "outputs": [
    {
     "name": "stdout",
     "output_type": "stream",
     "text": [
      "+-----------------+----------+---------------------+\n",
      "|ID_Grupo_Anuncios|ID_Campaña|Nombre_Grupo_Anuncios|\n",
      "+-----------------+----------+---------------------+\n",
      "|2001             |1002      |Grupo-1-Jovenes      |\n",
      "|2002             |1002      |Grupo-2-Mujeres      |\n",
      "|2003             |1004      |Grupo-3-Mujeres      |\n",
      "|2004             |1005      |Grupo-4-Mujeres      |\n",
      "|2005             |1002      |Grupo-5-Mujeres      |\n",
      "|2006             |1004      |Grupo-6-Mujeres      |\n",
      "|2007             |1001      |Grupo-7-Mujeres      |\n",
      "|2008             |1004      |Grupo-8-Mujeres      |\n",
      "|2009             |1005      |Grupo-9-Mujeres      |\n",
      "|2010             |1003      |Grupo-10-Hombres     |\n",
      "|2011             |1001      |Grupo-11-Jovenes     |\n",
      "|2012             |1002      |Grupo-12-Jovenes     |\n",
      "|2013             |1001      |Grupo-13-Jovenes     |\n",
      "|2014             |1003      |Grupo-14-Mujeres     |\n",
      "|2015             |1001      |Grupo-15-Hombres     |\n",
      "+-----------------+----------+---------------------+\n",
      "\n"
     ]
    }
   ],
   "source": [
    "group_df = spark.read.csv(\"./inputs/grupos_anuncios.csv\", header=True, inferSchema=True)\n",
    "group_df.show(truncate=False)"
   ]
  },
  {
   "cell_type": "code",
   "execution_count": 42,
   "metadata": {},
   "outputs": [
    {
     "name": "stdout",
     "output_type": "stream",
     "text": [
      "root\n",
      " |-- ID_Grupo_Anuncios: integer (nullable = true)\n",
      " |-- ID_Campaña: integer (nullable = true)\n",
      " |-- Nombre_Grupo_Anuncios: string (nullable = true)\n",
      "\n"
     ]
    }
   ],
   "source": [
    "group_df.printSchema()"
   ]
  },
  {
   "cell_type": "code",
   "execution_count": 45,
   "metadata": {},
   "outputs": [
    {
     "name": "stdout",
     "output_type": "stream",
     "text": [
      "+-----------------+-----------+---+--------+-------------+\n",
      "|ID_Grupo_Anuncios|campaign_id|id |audience|ad_group_name|\n",
      "+-----------------+-----------+---+--------+-------------+\n",
      "|2001             |1002       |1  |Jovenes |Grupo_1      |\n",
      "|2002             |1002       |2  |Mujeres |Grupo_2      |\n",
      "|2003             |1004       |3  |Mujeres |Grupo_3      |\n",
      "|2004             |1005       |4  |Mujeres |Grupo_4      |\n",
      "|2005             |1002       |5  |Mujeres |Grupo_5      |\n",
      "|2006             |1004       |6  |Mujeres |Grupo_6      |\n",
      "|2007             |1001       |7  |Mujeres |Grupo_7      |\n",
      "|2008             |1004       |8  |Mujeres |Grupo_8      |\n",
      "|2009             |1005       |9  |Mujeres |Grupo_9      |\n",
      "|2010             |1003       |10 |Hombres |Grupo_10     |\n",
      "|2011             |1001       |11 |Jovenes |Grupo_11     |\n",
      "|2012             |1002       |12 |Jovenes |Grupo_12     |\n",
      "|2013             |1001       |13 |Jovenes |Grupo_13     |\n",
      "|2014             |1003       |14 |Mujeres |Grupo_14     |\n",
      "|2015             |1001       |15 |Hombres |Grupo_15     |\n",
      "+-----------------+-----------+---+--------+-------------+\n",
      "\n"
     ]
    }
   ],
   "source": [
    "group_df = group_df.withColumnRenamed(\"ID_Grupo_Anuncio\", \"ad_group_id\")\n",
    "group_df = group_df.withColumnRenamed(\"ID_Campaña\", \"campaign_id\")\n",
    "group_df = group_df.withColumn(\"id\", split(group_df[\"Nombre_Grupo_Anuncios\"], \"-\")[1])\n",
    "group_df = group_df.withColumn(\"audience\", split(group_df[\"Nombre_Grupo_Anuncios\"], \"-\")[2])\n",
    "group_df = group_df.withColumn(\"prefijo\", split(group_df[\"Nombre_Grupo_Anuncios\"], \"-\")[0])\n",
    "group_df = group_df.withColumn(\"ad_group_name\", concat(col(\"prefijo\"), lit(\"_\"), col(\"id\")))\n",
    "group_df = group_df.drop(\"Nombre_Grupo_Anuncios\").drop(\"prefijo\")\n",
    "group_df.show(truncate=False)"
   ]
  },
  {
   "cell_type": "code",
   "execution_count": null,
   "metadata": {},
   "outputs": [],
   "source": []
  },
  {
   "cell_type": "code",
   "execution_count": null,
   "metadata": {},
   "outputs": [],
   "source": []
  },
  {
   "cell_type": "code",
   "execution_count": null,
   "metadata": {},
   "outputs": [],
   "source": []
  },
  {
   "cell_type": "code",
   "execution_count": null,
   "metadata": {},
   "outputs": [],
   "source": []
  },
  {
   "cell_type": "code",
   "execution_count": null,
   "metadata": {},
   "outputs": [],
   "source": []
  },
  {
   "cell_type": "code",
   "execution_count": null,
   "metadata": {},
   "outputs": [],
   "source": []
  },
  {
   "cell_type": "code",
   "execution_count": null,
   "metadata": {},
   "outputs": [],
   "source": []
  },
  {
   "cell_type": "code",
   "execution_count": null,
   "metadata": {},
   "outputs": [],
   "source": []
  }
 ],
 "metadata": {
  "kernelspec": {
   "display_name": "Python 3 (ipykernel)",
   "language": "python",
   "name": "python3"
  },
  "language_info": {
   "codemirror_mode": {
    "name": "ipython",
    "version": 3
   },
   "file_extension": ".py",
   "mimetype": "text/x-python",
   "name": "python",
   "nbconvert_exporter": "python",
   "pygments_lexer": "ipython3",
   "version": "3.11.6"
  }
 },
 "nbformat": 4,
 "nbformat_minor": 2
}
